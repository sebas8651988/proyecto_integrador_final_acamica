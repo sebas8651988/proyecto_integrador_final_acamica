{
 "cells": [
  {
   "cell_type": "markdown",
   "metadata": {
    "id": "2GRQnxMzISE_"
   },
   "source": [
    "# Proyecto Final-Integrador.\n",
    "\n",
    "## Dataset: The Multilingual Amazon Reviews Corpus\n",
    "\n",
    "   \n",
    "### Elige tu punto de partida\n",
    "\n",
    "Para el proyecto final-integrador se continuara con el desarrollado en el sprint 3, cuya tematica es procesamiento de lenguaje natural. \n",
    "Los resultados obtenidos con un modelo de maquina de vectores de soporte fueron los siguientes:\n",
    "\n",
    "- Se logra mejorar los resultados iniciales obtenidos por el modelo benchmark.\n",
    "\n",
    "- El modelo tiene una exactitud del 44%.\n",
    "\n",
    "- La capacidad que tiene el modelo de predecir los verdaderos positivos en función del número total de valores positivos esta sobre el 50%. Estos resultados aplican para las opiniones extremas, es decir, aquellas que tienen calificaciones de 1 y 5.  \n",
    "\n",
    "- La capacidad del modelo para predecir calificaciones intermedias, aquellas cuya calificacion estan entre 2,3 y 4, es deficientes."
   ]
  },
  {
   "cell_type": "markdown",
   "metadata": {},
   "source": [
    "### Formula una nueva pregunta, problema o desafío para explorar. \n",
    "\n",
    "Teniendo en cuenta que la opinion, satisfaccion u observacion de los usuarios son subjetivas y  pueden distorsionar las escalas de satisfaccion dependiendo de las palabras que se utilicen,  se llevara a cabo una conversion del problema en clasificacion binaria (0 y 1). \n",
    "\n",
    "#### El proposito de este proyecto es obtener un  rendimiento de las predicciones con una precision y sensibilidad por encima del 70% y un exactitud general  arriba del 80%."
   ]
  },
  {
   "cell_type": "markdown",
   "metadata": {},
   "source": [
    "### Prueba un modelo de Machine Learning nuevo que no hayas visto en la carrera.  \n",
    "\n",
    "### Explica su funcionamiento \n",
    "\n",
    "El modelo que se utilizara para este proyecto final-integrador se construye por medio de la libreria Keras, el cual es una biblioteca de redes neuronales artificiales de código abierto. Está desarrollada en Python y puede ejecutarse sobre diferentes plataformas como TensorFlow. Keras está diseñado para ir construyendo por bloques la arquitectura de cada red neuronal, incluyendo redes convolucionales y recurrentes, que son las que permiten, junto a los bloques “más tradicionales”, entrenar modelos deep learning.\n",
    "\n",
    "La plataforma por excelencia que trabaja bajo Keras en Tensorflow. TensorFlow es una biblioteca de software de código abierto para computación numérica, que utiliza gráficos de flujo de datos.\n",
    "\n",
    "TensorFlow es una gran plataforma para construir y entrenar redes neuronales, que permiten detectar y descifrar patrones y correlaciones, análogos al aprendizaje y razonamiento usados por los humanos.La arquitectura flexible de esta plataforma le permite implementar el cálculo a una o más CPU o GPU en equipos de escritorio, servidores o dispositivos móviles con una sola API. TensorFlow fue desarrollado originalmente por investigadores e ingenieros que trabajaban en el equipo de Google Brain Team  con el propósito de llevar a cabo el aprendizaje automático y la investigación de redes neuronales profundas.\n",
    "\n",
    "Keras trabaja como una API, lo que permite simplificar la configuracion de la arquitectura de deep learning de tensorFlow. Para el proyecto se estara trabajando con arquitectura de varias capas de redes neuronales con el fin de obtener los objetivos de rendimiento propuestos.  \n",
    "\n",
    "### Por qué consideras apropiado aplicarlo.\n",
    "\n",
    "En busqueda de informacion de nuevos modelos para implementar al proyecto, encontre informacion de deep learning para aplicaciones con procesamiento de lenguaje natural, por lo tanto, considero pertinente investigar esta tecnologia y asi determinar su aplicabilidad en el problema y objetivo planteado."
   ]
  },
  {
   "cell_type": "markdown",
   "metadata": {
    "id": "x1GFwraSISFB"
   },
   "source": [
    "# Librerias necesarias para el proyecto \n"
   ]
  },
  {
   "cell_type": "code",
   "execution_count": 2,
   "metadata": {},
   "outputs": [
    {
     "name": "stderr",
     "output_type": "stream",
     "text": [
      "[nltk_data] Downloading package punkt to\n",
      "[nltk_data]     C:\\Users\\EDWGAL01\\AppData\\Roaming\\nltk_data...\n",
      "[nltk_data]   Package punkt is already up-to-date!\n",
      "[nltk_data] Downloading package stopwords to\n",
      "[nltk_data]     C:\\Users\\EDWGAL01\\AppData\\Roaming\\nltk_data...\n",
      "[nltk_data]   Package stopwords is already up-to-date!\n"
     ]
    }
   ],
   "source": [
    "import itertools  # El módulo estandariza un conjunto base de herramientas rápidas y eficientes en memoria, \n",
    "                  # útiles por sí mismas o en combinación con otras. Juntas, forman un «álgebra de iteradores, \n",
    "                  # haciendo posible la construcción de herramientas especializadas, sucintas y eficientes,\n",
    "                  # en Python puro.\n",
    "\n",
    "import numpy as np # Es una biblioteca para el lenguaje de programación Python que da soporte para crear vectores y \n",
    "                   # matrices grandes multidimensionales, junto con una gran colección de funciones matemáticas de alto\n",
    "                   # nivel para operar con ellas.\n",
    "\n",
    "import pandas as pd # Ofrece estructuras de datos y operaciones para manipular tablas numéricas y series temporales\n",
    "import matplotlib.pyplot as plt # Es una biblioteca para la generación de gráficos a partir de datos contenidos en listas\n",
    "                                # o arrays en el lenguaje de programación Python y su extensión matemática NumPy\n",
    "import seaborn as sns # es una librería de visualización de datos para Python desarrollada sobre matplotlib. Ofrece \n",
    "                      # una interfaz de alto nivel para la creación de atractivas gráficas\n",
    "sns.set()\n",
    "import nltk # es un conjunto de bibliotecas y programas para el procesamiento del lenguaje natural (PLN) simbólico \n",
    "            # y estadísticos para el lenguaje de programación Python\n",
    "    \n",
    "import spacy # Libreria de procesamiento de lenguaje natural\n",
    "import es_core_news_sm # Repositorio de idioma español para trabajar junto a spacy.\n",
    "import re # libreria que nos permite reemplzar caracteres\n",
    "\n",
    "# Función que permite stemmizar de nltk y para configurar NLTK. La primera vez puede tardar un poco\n",
    "nltk.download('punkt') # Permite dividir un texto en una lista de frases\n",
    "nltk.download('stopwords') # Contiene una lista de stop word que son comunmente palabras como el,un, entre otras,\n",
    "                           # los cuales un motor de busqueda has sido programados para ignorarlos\n",
    "stopwords = nltk.corpus.stopwords.words('spanish') # Base de datos  de stopwords en español de nltk.\n",
    "\n",
    "from sklearn.metrics import confusion_matrix # Libreria para visualizar matriz de confusion\n",
    "from sklearn.model_selection import train_test_split # Libreria para dividir datos de entrenamiento y testeo \n",
    "from sklearn.metrics import classification_report # Libreria para visualizar metricas de accuracy,precision..\n",
    "from sklearn.ensemble import RandomForestClassifier # Libreria para modelo de Random forest\n",
    "from sklearn.naive_bayes import GaussianNB # Libreria para modelo de naive bayes\n",
    "from sklearn.svm import LinearSVC # Libreria para modelo de maquinas de vectores de soporte\n",
    "from sklearn.model_selection import GridSearchCV # Metodo para optimizar hiperparametros\n",
    "from sklearn.model_selection import RandomizedSearchCV # Metodo para optimizar hiperparametros\n",
    "import keras # Libreria de keras para construir modelos de deep learning\n",
    "from keras.models import Sequential # Libreria para crear arquitectura de redes neuronales\n",
    "from keras.layers import Dense # Libreria para crear arquitectura de redes neuronales\n",
    "from keras.layers import Conv2D, MaxPooling2D\n",
    "from keras.layers.advanced_activations import LeakyReLU\n",
    "from keras.layers import Dense, Dropout, Flatten\n",
    "from sklearn.feature_extraction.text import CountVectorizer # Libreria para vectorizar las palabras con mayor frecuencia"
   ]
  },
  {
   "cell_type": "markdown",
   "metadata": {},
   "source": [
    "## Funciones del proyecto"
   ]
  },
  {
   "cell_type": "code",
   "execution_count": 3,
   "metadata": {},
   "outputs": [],
   "source": [
    "# Funcion para ejecutar y graficar matriz de confusion para los modelos \n",
    "def confusion(ytest,y_pred):\n",
    "    names=[\"1\",\"2\",\"3\",\"4\",\"5\"]\n",
    "    cm=confusion_matrix(ytest,y_pred)\n",
    "    f,ax=plt.subplots(figsize=(5,5))\n",
    "    sns.heatmap(cm,annot=True,linewidth=.5,linecolor=\"r\",fmt=\".0f\",ax=ax)\n",
    "    plt.xlabel(\"y_pred\")\n",
    "    plt.ylabel(\"y_true\")\n",
    "    ax.set_xticklabels(names)\n",
    "    ax.set_yticklabels(names)\n",
    "    plt.show()\n",
    "\n",
    "    return"
   ]
  },
  {
   "cell_type": "code",
   "execution_count": 4,
   "metadata": {},
   "outputs": [],
   "source": [
    "# Funcion para ejecutar y graficar matriz de confusion para problema binarizado\n",
    "def confusion_bin(ytest,y_pred):\n",
    "    names=[\"0\",\"1\"]\n",
    "    cm=confusion_matrix(ytest,y_pred)\n",
    "    f,ax=plt.subplots(figsize=(5,5))\n",
    "    sns.heatmap(cm,annot=True,linewidth=.5,linecolor=\"r\",fmt=\".0f\",ax=ax)\n",
    "    plt.xlabel(\"y_pred\")\n",
    "    plt.ylabel(\"y_true\")\n",
    "    ax.set_xticklabels(names)\n",
    "    ax.set_yticklabels(names)\n",
    "    plt.show()\n",
    "\n",
    "    return"
   ]
  },
  {
   "cell_type": "markdown",
   "metadata": {},
   "source": [
    "## Exploracion de los datos"
   ]
  },
  {
   "cell_type": "markdown",
   "metadata": {},
   "source": [
    "### Carga de datos\n",
    "\n",
    "La base de datos esta en formato JSON, el cual es un formato ligero de intercambio de datos. Leerlo y escribirlo es simple para humanos, mientras que para las máquinas es simple interpretarlo y generarlo. Está basado en un subconjunto del Lenguaje de Programación JavaScript.\n",
    "\n",
    "JSON es un formato de texto que es completamente independiente del lenguaje pero utiliza convenciones que son ampliamente conocidos por los programadores de la familia de lenguajes C, incluyendo C, C++, C#, Java, JavaScript, Perl, Python, y muchos otros. Estas propiedades hacen que JSON sea un lenguaje ideal para el intercambio de datos."
   ]
  },
  {
   "cell_type": "code",
   "execution_count": 5,
   "metadata": {},
   "outputs": [],
   "source": [
    "# Se carga la base de datos a variable dataset\n",
    "dataset = pd.read_json('dataset_es_train.json',lines=True)"
   ]
  },
  {
   "cell_type": "code",
   "execution_count": 6,
   "metadata": {},
   "outputs": [
    {
     "data": {
      "text/plain": [
       "(200000, 8)"
      ]
     },
     "execution_count": 6,
     "metadata": {},
     "output_type": "execute_result"
    }
   ],
   "source": [
    "# Dimensiones de la base de datos\n",
    "dataset.shape"
   ]
  },
  {
   "cell_type": "code",
   "execution_count": 7,
   "metadata": {},
   "outputs": [
    {
     "data": {
      "text/html": [
       "<div>\n",
       "<style scoped>\n",
       "    .dataframe tbody tr th:only-of-type {\n",
       "        vertical-align: middle;\n",
       "    }\n",
       "\n",
       "    .dataframe tbody tr th {\n",
       "        vertical-align: top;\n",
       "    }\n",
       "\n",
       "    .dataframe thead th {\n",
       "        text-align: right;\n",
       "    }\n",
       "</style>\n",
       "<table border=\"1\" class=\"dataframe\">\n",
       "  <thead>\n",
       "    <tr style=\"text-align: right;\">\n",
       "      <th></th>\n",
       "      <th>review_id</th>\n",
       "      <th>product_id</th>\n",
       "      <th>reviewer_id</th>\n",
       "      <th>stars</th>\n",
       "      <th>review_body</th>\n",
       "      <th>review_title</th>\n",
       "      <th>language</th>\n",
       "      <th>product_category</th>\n",
       "    </tr>\n",
       "  </thead>\n",
       "  <tbody>\n",
       "    <tr>\n",
       "      <th>0</th>\n",
       "      <td>es_0491108</td>\n",
       "      <td>product_es_0296024</td>\n",
       "      <td>reviewer_es_0999081</td>\n",
       "      <td>1</td>\n",
       "      <td>Nada bueno se me fue ka pantalla en menos de 8...</td>\n",
       "      <td>television Nevir</td>\n",
       "      <td>es</td>\n",
       "      <td>electronics</td>\n",
       "    </tr>\n",
       "    <tr>\n",
       "      <th>1</th>\n",
       "      <td>es_0869872</td>\n",
       "      <td>product_es_0922286</td>\n",
       "      <td>reviewer_es_0216771</td>\n",
       "      <td>1</td>\n",
       "      <td>Horrible, nos tuvimos que comprar otro porque ...</td>\n",
       "      <td>Dinero tirado a la basura con esta compra</td>\n",
       "      <td>es</td>\n",
       "      <td>electronics</td>\n",
       "    </tr>\n",
       "    <tr>\n",
       "      <th>2</th>\n",
       "      <td>es_0811721</td>\n",
       "      <td>product_es_0474543</td>\n",
       "      <td>reviewer_es_0929213</td>\n",
       "      <td>1</td>\n",
       "      <td>Te obligan a comprar dos unidades y te llega s...</td>\n",
       "      <td>solo llega una unidad cuando te obligan a comp...</td>\n",
       "      <td>es</td>\n",
       "      <td>drugstore</td>\n",
       "    </tr>\n",
       "    <tr>\n",
       "      <th>3</th>\n",
       "      <td>es_0359921</td>\n",
       "      <td>product_es_0656090</td>\n",
       "      <td>reviewer_es_0224702</td>\n",
       "      <td>1</td>\n",
       "      <td>No entro en descalificar al vendedor, solo pue...</td>\n",
       "      <td>PRODUCTO NO RECIBIDO.</td>\n",
       "      <td>es</td>\n",
       "      <td>wireless</td>\n",
       "    </tr>\n",
       "    <tr>\n",
       "      <th>4</th>\n",
       "      <td>es_0068940</td>\n",
       "      <td>product_es_0662544</td>\n",
       "      <td>reviewer_es_0224827</td>\n",
       "      <td>1</td>\n",
       "      <td>Llega tarde y co la talla equivocada</td>\n",
       "      <td>Devuelto</td>\n",
       "      <td>es</td>\n",
       "      <td>shoes</td>\n",
       "    </tr>\n",
       "  </tbody>\n",
       "</table>\n",
       "</div>"
      ],
      "text/plain": [
       "    review_id          product_id          reviewer_id  stars  \\\n",
       "0  es_0491108  product_es_0296024  reviewer_es_0999081      1   \n",
       "1  es_0869872  product_es_0922286  reviewer_es_0216771      1   \n",
       "2  es_0811721  product_es_0474543  reviewer_es_0929213      1   \n",
       "3  es_0359921  product_es_0656090  reviewer_es_0224702      1   \n",
       "4  es_0068940  product_es_0662544  reviewer_es_0224827      1   \n",
       "\n",
       "                                         review_body  \\\n",
       "0  Nada bueno se me fue ka pantalla en menos de 8...   \n",
       "1  Horrible, nos tuvimos que comprar otro porque ...   \n",
       "2  Te obligan a comprar dos unidades y te llega s...   \n",
       "3  No entro en descalificar al vendedor, solo pue...   \n",
       "4               Llega tarde y co la talla equivocada   \n",
       "\n",
       "                                        review_title language product_category  \n",
       "0                                   television Nevir       es      electronics  \n",
       "1          Dinero tirado a la basura con esta compra       es      electronics  \n",
       "2  solo llega una unidad cuando te obligan a comp...       es        drugstore  \n",
       "3                              PRODUCTO NO RECIBIDO.       es         wireless  \n",
       "4                                           Devuelto       es            shoes  "
      ]
     },
     "execution_count": 7,
     "metadata": {},
     "output_type": "execute_result"
    }
   ],
   "source": [
    "# Se visualiza las columnas de la base de datos\n",
    "dataset.head()"
   ]
  },
  {
   "cell_type": "code",
   "execution_count": 8,
   "metadata": {},
   "outputs": [
    {
     "data": {
      "image/png": "[encoded data removed]",
      "text/plain": [
       "<Figure size 432x288 with 1 Axes>"
      ]
     },
     "metadata": {},
     "output_type": "display_data"
    }
   ],
   "source": [
    "# Grafica de cantidad de opiniones por estrellas asignadas por los usuarios para visualizar \n",
    "# balance de las etiquetas\n",
    "sns.countplot(dataset.stars)\n",
    "plt.show()"
   ]
  },
  {
   "cell_type": "markdown",
   "metadata": {},
   "source": [
    "### Stopwords de libreria nltk"
   ]
  },
  {
   "cell_type": "code",
   "execution_count": 9,
   "metadata": {},
   "outputs": [
    {
     "data": {
      "text/plain": [
       "['de',\n",
       " 'la',\n",
       " 'que',\n",
       " 'el',\n",
       " 'en',\n",
       " 'y',\n",
       " 'a',\n",
       " 'los',\n",
       " 'del',\n",
       " 'se',\n",
       " 'las',\n",
       " 'por',\n",
       " 'un',\n",
       " 'para',\n",
       " 'con',\n",
       " 'no',\n",
       " 'una',\n",
       " 'su',\n",
       " 'al',\n",
       " 'lo',\n",
       " 'como',\n",
       " 'más',\n",
       " 'pero',\n",
       " 'sus',\n",
       " 'le',\n",
       " 'ya',\n",
       " 'o',\n",
       " 'este',\n",
       " 'sí',\n",
       " 'porque',\n",
       " 'esta',\n",
       " 'entre',\n",
       " 'cuando',\n",
       " 'muy',\n",
       " 'sin',\n",
       " 'sobre',\n",
       " 'también',\n",
       " 'me',\n",
       " 'hasta',\n",
       " 'hay',\n",
       " 'donde',\n",
       " 'quien',\n",
       " 'desde',\n",
       " 'todo',\n",
       " 'nos',\n",
       " 'durante',\n",
       " 'todos',\n",
       " 'uno',\n",
       " 'les',\n",
       " 'ni',\n",
       " 'contra',\n",
       " 'otros',\n",
       " 'ese',\n",
       " 'eso',\n",
       " 'ante',\n",
       " 'ellos',\n",
       " 'e',\n",
       " 'esto',\n",
       " 'mí',\n",
       " 'antes',\n",
       " 'algunos',\n",
       " 'qué',\n",
       " 'unos',\n",
       " 'yo',\n",
       " 'otro',\n",
       " 'otras',\n",
       " 'otra',\n",
       " 'él',\n",
       " 'tanto',\n",
       " 'esa',\n",
       " 'estos',\n",
       " 'mucho',\n",
       " 'quienes',\n",
       " 'nada',\n",
       " 'muchos',\n",
       " 'cual',\n",
       " 'poco',\n",
       " 'ella',\n",
       " 'estar',\n",
       " 'estas',\n",
       " 'algunas',\n",
       " 'algo',\n",
       " 'nosotros',\n",
       " 'mi',\n",
       " 'mis',\n",
       " 'tú',\n",
       " 'te',\n",
       " 'ti',\n",
       " 'tu',\n",
       " 'tus',\n",
       " 'ellas',\n",
       " 'nosotras',\n",
       " 'vosotros',\n",
       " 'vosotras',\n",
       " 'os',\n",
       " 'mío',\n",
       " 'mía',\n",
       " 'míos',\n",
       " 'mías',\n",
       " 'tuyo',\n",
       " 'tuya',\n",
       " 'tuyos',\n",
       " 'tuyas',\n",
       " 'suyo',\n",
       " 'suya',\n",
       " 'suyos',\n",
       " 'suyas',\n",
       " 'nuestro',\n",
       " 'nuestra',\n",
       " 'nuestros',\n",
       " 'nuestras',\n",
       " 'vuestro',\n",
       " 'vuestra',\n",
       " 'vuestros',\n",
       " 'vuestras',\n",
       " 'esos',\n",
       " 'esas',\n",
       " 'estoy',\n",
       " 'estás',\n",
       " 'está',\n",
       " 'estamos',\n",
       " 'estáis',\n",
       " 'están',\n",
       " 'esté',\n",
       " 'estés',\n",
       " 'estemos',\n",
       " 'estéis',\n",
       " 'estén',\n",
       " 'estaré',\n",
       " 'estarás',\n",
       " 'estará',\n",
       " 'estaremos',\n",
       " 'estaréis',\n",
       " 'estarán',\n",
       " 'estaría',\n",
       " 'estarías',\n",
       " 'estaríamos',\n",
       " 'estaríais',\n",
       " 'estarían',\n",
       " 'estaba',\n",
       " 'estabas',\n",
       " 'estábamos',\n",
       " 'estabais',\n",
       " 'estaban',\n",
       " 'estuve',\n",
       " 'estuviste',\n",
       " 'estuvo',\n",
       " 'estuvimos',\n",
       " 'estuvisteis',\n",
       " 'estuvieron',\n",
       " 'estuviera',\n",
       " 'estuvieras',\n",
       " 'estuviéramos',\n",
       " 'estuvierais',\n",
       " 'estuvieran',\n",
       " 'estuviese',\n",
       " 'estuvieses',\n",
       " 'estuviésemos',\n",
       " 'estuvieseis',\n",
       " 'estuviesen',\n",
       " 'estando',\n",
       " 'estado',\n",
       " 'estada',\n",
       " 'estados',\n",
       " 'estadas',\n",
       " 'estad',\n",
       " 'he',\n",
       " 'has',\n",
       " 'ha',\n",
       " 'hemos',\n",
       " 'habéis',\n",
       " 'han',\n",
       " 'haya',\n",
       " 'hayas',\n",
       " 'hayamos',\n",
       " 'hayáis',\n",
       " 'hayan',\n",
       " 'habré',\n",
       " 'habrás',\n",
       " 'habrá',\n",
       " 'habremos',\n",
       " 'habréis',\n",
       " 'habrán',\n",
       " 'habría',\n",
       " 'habrías',\n",
       " 'habríamos',\n",
       " 'habríais',\n",
       " 'habrían',\n",
       " 'había',\n",
       " 'habías',\n",
       " 'habíamos',\n",
       " 'habíais',\n",
       " 'habían',\n",
       " 'hube',\n",
       " 'hubiste',\n",
       " 'hubo',\n",
       " 'hubimos',\n",
       " 'hubisteis',\n",
       " 'hubieron',\n",
       " 'hubiera',\n",
       " 'hubieras',\n",
       " 'hubiéramos',\n",
       " 'hubierais',\n",
       " 'hubieran',\n",
       " 'hubiese',\n",
       " 'hubieses',\n",
       " 'hubiésemos',\n",
       " 'hubieseis',\n",
       " 'hubiesen',\n",
       " 'habiendo',\n",
       " 'habido',\n",
       " 'habida',\n",
       " 'habidos',\n",
       " 'habidas',\n",
       " 'soy',\n",
       " 'eres',\n",
       " 'es',\n",
       " 'somos',\n",
       " 'sois',\n",
       " 'son',\n",
       " 'sea',\n",
       " 'seas',\n",
       " 'seamos',\n",
       " 'seáis',\n",
       " 'sean',\n",
       " 'seré',\n",
       " 'serás',\n",
       " 'será',\n",
       " 'seremos',\n",
       " 'seréis',\n",
       " 'serán',\n",
       " 'sería',\n",
       " 'serías',\n",
       " 'seríamos',\n",
       " 'seríais',\n",
       " 'serían',\n",
       " 'era',\n",
       " 'eras',\n",
       " 'éramos',\n",
       " 'erais',\n",
       " 'eran',\n",
       " 'fui',\n",
       " 'fuiste',\n",
       " 'fue',\n",
       " 'fuimos',\n",
       " 'fuisteis',\n",
       " 'fueron',\n",
       " 'fuera',\n",
       " 'fueras',\n",
       " 'fuéramos',\n",
       " 'fuerais',\n",
       " 'fueran',\n",
       " 'fuese',\n",
       " 'fueses',\n",
       " 'fuésemos',\n",
       " 'fueseis',\n",
       " 'fuesen',\n",
       " 'sintiendo',\n",
       " 'sentido',\n",
       " 'sentida',\n",
       " 'sentidos',\n",
       " 'sentidas',\n",
       " 'siente',\n",
       " 'sentid',\n",
       " 'tengo',\n",
       " 'tienes',\n",
       " 'tiene',\n",
       " 'tenemos',\n",
       " 'tenéis',\n",
       " 'tienen',\n",
       " 'tenga',\n",
       " 'tengas',\n",
       " 'tengamos',\n",
       " 'tengáis',\n",
       " 'tengan',\n",
       " 'tendré',\n",
       " 'tendrás',\n",
       " 'tendrá',\n",
       " 'tendremos',\n",
       " 'tendréis',\n",
       " 'tendrán',\n",
       " 'tendría',\n",
       " 'tendrías',\n",
       " 'tendríamos',\n",
       " 'tendríais',\n",
       " 'tendrían',\n",
       " 'tenía',\n",
       " 'tenías',\n",
       " 'teníamos',\n",
       " 'teníais',\n",
       " 'tenían',\n",
       " 'tuve',\n",
       " 'tuviste',\n",
       " 'tuvo',\n",
       " 'tuvimos',\n",
       " 'tuvisteis',\n",
       " 'tuvieron',\n",
       " 'tuviera',\n",
       " 'tuvieras',\n",
       " 'tuviéramos',\n",
       " 'tuvierais',\n",
       " 'tuvieran',\n",
       " 'tuviese',\n",
       " 'tuvieses',\n",
       " 'tuviésemos',\n",
       " 'tuvieseis',\n",
       " 'tuviesen',\n",
       " 'teniendo',\n",
       " 'tenido',\n",
       " 'tenida',\n",
       " 'tenidos',\n",
       " 'tenidas',\n",
       " 'tened']"
      ]
     },
     "execution_count": 9,
     "metadata": {},
     "output_type": "execute_result"
    }
   ],
   "source": [
    "#  Se visualiza las palabras stopwords de la libreria nltk.\n",
    "stopwords"
   ]
  },
  {
   "cell_type": "markdown",
   "metadata": {},
   "source": [
    "¿Qué palabras filtrarían, aparte de las que aparecen en `stopwords`, con el fin de mejorar los resultados de las palabras asociadas a calificaciones positivas o negativas? \n",
    " \n",
    "Para las  opiniones de satisfaccion del cliente es posible encontrar frases como 'No me llego bien el producto',' El producto no esta bien' o 'El producto no me funciona bien'. Estas frases con la palabra 'bien' pueden distorsionar el analisis de satisfaccion del cliente al tokenizar la frase, por lo tanto, se agregara la palabra bien como stopword.\n",
    "Ademas, al tratar con opiniones de usuarios, la palabra No permite diferenciar la satisfaccion de los usuarios. Teniendo en cuenta esto, se removera de la lista de stopwords la palabra 'no'"
   ]
  },
  {
   "cell_type": "code",
   "execution_count": 10,
   "metadata": {},
   "outputs": [],
   "source": [
    "# Se agrega la palabra 'bien' a la lista de stopwords\n",
    "stopwords.append('bien')"
   ]
  },
  {
   "cell_type": "code",
   "execution_count": 11,
   "metadata": {},
   "outputs": [],
   "source": [
    "# Se remueve la palabra 'no' de la lista de stopwords\n",
    "stopwords.remove('no')"
   ]
  },
  {
   "cell_type": "code",
   "execution_count": 12,
   "metadata": {},
   "outputs": [],
   "source": [
    "# Se carga idioma español para libreria spacy.\n",
    "nlp = es_core_news_sm.load()"
   ]
  },
  {
   "cell_type": "markdown",
   "metadata": {},
   "source": [
    "# Exploración del dataset\n"
   ]
  },
  {
   "cell_type": "markdown",
   "metadata": {},
   "source": [
    "## ¿Qué palabras están asociadas a calificaciones positivas y qué palabras a calificaciones negativas?"
   ]
  },
  {
   "cell_type": "markdown",
   "metadata": {},
   "source": [
    "#### Filtrar el dataset por las  estrellas 1,2 y 3 "
   ]
  },
  {
   "cell_type": "code",
   "execution_count": 13,
   "metadata": {},
   "outputs": [
    {
     "data": {
      "text/html": [
       "<div>\n",
       "<style scoped>\n",
       "    .dataframe tbody tr th:only-of-type {\n",
       "        vertical-align: middle;\n",
       "    }\n",
       "\n",
       "    .dataframe tbody tr th {\n",
       "        vertical-align: top;\n",
       "    }\n",
       "\n",
       "    .dataframe thead th {\n",
       "        text-align: right;\n",
       "    }\n",
       "</style>\n",
       "<table border=\"1\" class=\"dataframe\">\n",
       "  <thead>\n",
       "    <tr style=\"text-align: right;\">\n",
       "      <th></th>\n",
       "      <th>review_id</th>\n",
       "      <th>product_id</th>\n",
       "      <th>reviewer_id</th>\n",
       "      <th>stars</th>\n",
       "      <th>review_body</th>\n",
       "      <th>review_title</th>\n",
       "      <th>language</th>\n",
       "      <th>product_category</th>\n",
       "    </tr>\n",
       "  </thead>\n",
       "  <tbody>\n",
       "    <tr>\n",
       "      <th>0</th>\n",
       "      <td>es_0491108</td>\n",
       "      <td>product_es_0296024</td>\n",
       "      <td>reviewer_es_0999081</td>\n",
       "      <td>1</td>\n",
       "      <td>Nada bueno se me fue ka pantalla en menos de 8...</td>\n",
       "      <td>television Nevir</td>\n",
       "      <td>es</td>\n",
       "      <td>electronics</td>\n",
       "    </tr>\n",
       "    <tr>\n",
       "      <th>1</th>\n",
       "      <td>es_0869872</td>\n",
       "      <td>product_es_0922286</td>\n",
       "      <td>reviewer_es_0216771</td>\n",
       "      <td>1</td>\n",
       "      <td>Horrible, nos tuvimos que comprar otro porque ...</td>\n",
       "      <td>Dinero tirado a la basura con esta compra</td>\n",
       "      <td>es</td>\n",
       "      <td>electronics</td>\n",
       "    </tr>\n",
       "    <tr>\n",
       "      <th>2</th>\n",
       "      <td>es_0811721</td>\n",
       "      <td>product_es_0474543</td>\n",
       "      <td>reviewer_es_0929213</td>\n",
       "      <td>1</td>\n",
       "      <td>Te obligan a comprar dos unidades y te llega s...</td>\n",
       "      <td>solo llega una unidad cuando te obligan a comp...</td>\n",
       "      <td>es</td>\n",
       "      <td>drugstore</td>\n",
       "    </tr>\n",
       "    <tr>\n",
       "      <th>3</th>\n",
       "      <td>es_0359921</td>\n",
       "      <td>product_es_0656090</td>\n",
       "      <td>reviewer_es_0224702</td>\n",
       "      <td>1</td>\n",
       "      <td>No entro en descalificar al vendedor, solo pue...</td>\n",
       "      <td>PRODUCTO NO RECIBIDO.</td>\n",
       "      <td>es</td>\n",
       "      <td>wireless</td>\n",
       "    </tr>\n",
       "    <tr>\n",
       "      <th>4</th>\n",
       "      <td>es_0068940</td>\n",
       "      <td>product_es_0662544</td>\n",
       "      <td>reviewer_es_0224827</td>\n",
       "      <td>1</td>\n",
       "      <td>Llega tarde y co la talla equivocada</td>\n",
       "      <td>Devuelto</td>\n",
       "      <td>es</td>\n",
       "      <td>shoes</td>\n",
       "    </tr>\n",
       "  </tbody>\n",
       "</table>\n",
       "</div>"
      ],
      "text/plain": [
       "    review_id          product_id          reviewer_id  stars  \\\n",
       "0  es_0491108  product_es_0296024  reviewer_es_0999081      1   \n",
       "1  es_0869872  product_es_0922286  reviewer_es_0216771      1   \n",
       "2  es_0811721  product_es_0474543  reviewer_es_0929213      1   \n",
       "3  es_0359921  product_es_0656090  reviewer_es_0224702      1   \n",
       "4  es_0068940  product_es_0662544  reviewer_es_0224827      1   \n",
       "\n",
       "                                         review_body  \\\n",
       "0  Nada bueno se me fue ka pantalla en menos de 8...   \n",
       "1  Horrible, nos tuvimos que comprar otro porque ...   \n",
       "2  Te obligan a comprar dos unidades y te llega s...   \n",
       "3  No entro en descalificar al vendedor, solo pue...   \n",
       "4               Llega tarde y co la talla equivocada   \n",
       "\n",
       "                                        review_title language product_category  \n",
       "0                                   television Nevir       es      electronics  \n",
       "1          Dinero tirado a la basura con esta compra       es      electronics  \n",
       "2  solo llega una unidad cuando te obligan a comp...       es        drugstore  \n",
       "3                              PRODUCTO NO RECIBIDO.       es         wireless  \n",
       "4                                           Devuelto       es            shoes  "
      ]
     },
     "execution_count": 13,
     "metadata": {},
     "output_type": "execute_result"
    }
   ],
   "source": [
    "# Se crea variable con intancias cuya calificacion estan entre 1 y 2\n",
    "dataset_stars_1_2 = dataset[dataset.stars < 3]\n",
    "dataset_stars_1_2.head()"
   ]
  },
  {
   "cell_type": "code",
   "execution_count": 14,
   "metadata": {},
   "outputs": [],
   "source": [
    "# Se filtra las stopwords con libreria de nltk y se emplea tokenizador de spacy\n",
    "\n",
    "todas_criticas_stars_1_2 = [] # Se crea lista donde se almacenara cada intancia luego del procesamiento del lenguaje natural\n",
    "for i in range(dataset_stars_1_2.shape[0]): # Ciclo para recorrer fila por fila\n",
    "    critica = dataset_stars_1_2.iloc[i].review_title # selecciona la instancia y especificamente la columna titulo\n",
    "    critica=re.sub(\"[^a-záéíóúA-Z]\",\" \",str(critica))# Elimina cualquier tipo de caracter excepto las letras incluidas \n",
    "    a,b = 'áéíóúü','aeiouu' # convierte las vocales en tilde en vocales sin tilde\n",
    "    trans = str.maketrans(a,b) # carga la transformacion\n",
    "    critica = critica.translate(trans) # ejecuta la tranformacion en cada instancia\n",
    "    critica = critica.lower()# Pasa cada instancia a minúsculas\n",
    "    critica = nltk.tokenize.RegexpTokenizer(\"[\\w]+\").tokenize(critica) # Tokeniza cada instancia con regexptokenizer\n",
    "    critica = [palabra for palabra in critica if (len(palabra)>3 or palabra == ('no'))] # Eliminamos las palabras \n",
    "    # menores a 3 letras y deja la palabra no\n",
    "    critica = [palabra for palabra in critica if palabra not in stopwords] # Filtra cada instancia las stopwords de nltk \n",
    "    critica=re.sub(\"[^a-záéíóúA-Z]\",\" \",str(critica)) # se convierte instancia a string\n",
    "    critica = critica.strip() # se eliminan espacios entre las palabras\n",
    "    critica = \" \".join(re.split(r\"\\s+\", critica)) # se eliminan espacios iniciales o finales\n",
    "    critica_cleaned = nlp(critica) # se carga libreria de spacy de pln\n",
    "    critica_lemma = list(token.lemma_ for token in critica_cleaned) # se tokeniza cada instancia\n",
    "    todas_criticas_stars_1_2.append(critica_lemma) # se agrega el resultado a la lista    \n",
    "\n",
    "# Esta celda convierte una lista de listas en una unica lista\n",
    "todas_criticas_stars_1_2 = list(itertools.chain(*todas_criticas_stars_1_2))    "
   ]
  },
  {
   "cell_type": "code",
   "execution_count": 15,
   "metadata": {},
   "outputs": [
    {
     "data": {
      "text/plain": [
       "FreqDist({'no': 22993, 'calidad': 5356, 'malo': 5294, 'llegar': 3052, 'funcionar': 3047, 'producto': 2771, 'comprar': 1845, 'bueno': 1755, 'pecar': 1654, 'esperar': 1352, ...})"
      ]
     },
     "execution_count": 15,
     "metadata": {},
     "output_type": "execute_result"
    }
   ],
   "source": [
    "# Se lleva a cabo conteo de palabras, se ordena de mayor a menor y se grafica en barras\n",
    "# Frecuencia de aparicion de las  palabras\n",
    "freq_criticas_stars_1_2 = nltk.FreqDist(todas_criticas_stars_1_2)\n",
    "freq_criticas_stars_1_2"
   ]
  },
  {
   "cell_type": "code",
   "execution_count": 16,
   "metadata": {},
   "outputs": [],
   "source": [
    "# Se crea un dataframe con la frecuencia de las palabras \n",
    "df_criticas_stars_1_2 = pd.DataFrame.from_dict(freq_criticas_stars_1_2,orient='index').reset_index()\n",
    "df_criticas_stars_1_2.columns = ['Word','Frequency']"
   ]
  },
  {
   "cell_type": "code",
   "execution_count": 17,
   "metadata": {},
   "outputs": [],
   "source": [
    "# Se ordena el dataframe de mayor a menor\n",
    "df_criticas_stars_1_2.sort_values('Frequency',ascending=False,inplace=True)"
   ]
  },
  {
   "cell_type": "code",
   "execution_count": 18,
   "metadata": {},
   "outputs": [],
   "source": [
    "# Se resetea el index\n",
    "df_criticas_stars_1_2.reset_index(drop = True, inplace=True)"
   ]
  },
  {
   "cell_type": "code",
   "execution_count": 19,
   "metadata": {},
   "outputs": [
    {
     "data": {
      "image/png": "[encoded data removed]",
      "text/plain": [
       "<Figure size 1080x576 with 1 Axes>"
      ]
     },
     "metadata": {},
     "output_type": "display_data"
    }
   ],
   "source": [
    "# Grafica de frecuencia de las palabras de mayor a menor\n",
    "plt.figure(figsize = (15,8))\n",
    "plot = sns.barplot(x  = df_criticas_stars_1_2.iloc[:30].Word, y = df_criticas_stars_1_2.iloc[:30].Frequency)\n",
    "for item in plot.get_xticklabels():\n",
    "    item.set_rotation(90)\n",
    "plt.show()"
   ]
  },
  {
   "cell_type": "markdown",
   "metadata": {},
   "source": [
    " # De acuerdo a la grafica de barras, palabras como malo, no y calidadestan asociadas con calificaciones negativas"
   ]
  },
  {
   "cell_type": "markdown",
   "metadata": {},
   "source": [
    "#### Filtrar el dataset por las estrellas 3, 4 y 5  "
   ]
  },
  {
   "cell_type": "code",
   "execution_count": 20,
   "metadata": {},
   "outputs": [
    {
     "data": {
      "text/html": [
       "<div>\n",
       "<style scoped>\n",
       "    .dataframe tbody tr th:only-of-type {\n",
       "        vertical-align: middle;\n",
       "    }\n",
       "\n",
       "    .dataframe tbody tr th {\n",
       "        vertical-align: top;\n",
       "    }\n",
       "\n",
       "    .dataframe thead th {\n",
       "        text-align: right;\n",
       "    }\n",
       "</style>\n",
       "<table border=\"1\" class=\"dataframe\">\n",
       "  <thead>\n",
       "    <tr style=\"text-align: right;\">\n",
       "      <th></th>\n",
       "      <th>review_id</th>\n",
       "      <th>product_id</th>\n",
       "      <th>reviewer_id</th>\n",
       "      <th>stars</th>\n",
       "      <th>review_body</th>\n",
       "      <th>review_title</th>\n",
       "      <th>language</th>\n",
       "      <th>product_category</th>\n",
       "    </tr>\n",
       "  </thead>\n",
       "  <tbody>\n",
       "    <tr>\n",
       "      <th>80000</th>\n",
       "      <td>es_0397380</td>\n",
       "      <td>product_es_0419842</td>\n",
       "      <td>reviewer_es_0166500</td>\n",
       "      <td>3</td>\n",
       "      <td>cabe bien un móvil de 5,5 y cumple su función ...</td>\n",
       "      <td>buena funda para movil 5,5</td>\n",
       "      <td>es</td>\n",
       "      <td>wireless</td>\n",
       "    </tr>\n",
       "    <tr>\n",
       "      <th>80001</th>\n",
       "      <td>es_0677179</td>\n",
       "      <td>product_es_0783495</td>\n",
       "      <td>reviewer_es_0049888</td>\n",
       "      <td>3</td>\n",
       "      <td>El aparato tiene un tamaño perfecto. Y la embo...</td>\n",
       "      <td>Aparato perfecto para verduras (no cebollas, n...</td>\n",
       "      <td>es</td>\n",
       "      <td>kitchen</td>\n",
       "    </tr>\n",
       "    <tr>\n",
       "      <th>80002</th>\n",
       "      <td>es_0977233</td>\n",
       "      <td>product_es_0602345</td>\n",
       "      <td>reviewer_es_0299797</td>\n",
       "      <td>3</td>\n",
       "      <td>La luces llegaron en tiempo y bien, las ocho f...</td>\n",
       "      <td>Poco duraderas</td>\n",
       "      <td>es</td>\n",
       "      <td>home</td>\n",
       "    </tr>\n",
       "    <tr>\n",
       "      <th>80003</th>\n",
       "      <td>es_0784422</td>\n",
       "      <td>product_es_0102982</td>\n",
       "      <td>reviewer_es_0489264</td>\n",
       "      <td>3</td>\n",
       "      <td>No sé puede apagar, está todo el rato consumie...</td>\n",
       "      <td>Lo peor es el apagado</td>\n",
       "      <td>es</td>\n",
       "      <td>home</td>\n",
       "    </tr>\n",
       "    <tr>\n",
       "      <th>80004</th>\n",
       "      <td>es_0399063</td>\n",
       "      <td>product_es_0312668</td>\n",
       "      <td>reviewer_es_0484556</td>\n",
       "      <td>3</td>\n",
       "      <td>Vino sin la goma ajustable en la tapa y si pon...</td>\n",
       "      <td>Le faltó la goma a la tapa para que ajuste bien.</td>\n",
       "      <td>es</td>\n",
       "      <td>home</td>\n",
       "    </tr>\n",
       "  </tbody>\n",
       "</table>\n",
       "</div>"
      ],
      "text/plain": [
       "        review_id          product_id          reviewer_id  stars  \\\n",
       "80000  es_0397380  product_es_0419842  reviewer_es_0166500      3   \n",
       "80001  es_0677179  product_es_0783495  reviewer_es_0049888      3   \n",
       "80002  es_0977233  product_es_0602345  reviewer_es_0299797      3   \n",
       "80003  es_0784422  product_es_0102982  reviewer_es_0489264      3   \n",
       "80004  es_0399063  product_es_0312668  reviewer_es_0484556      3   \n",
       "\n",
       "                                             review_body  \\\n",
       "80000  cabe bien un móvil de 5,5 y cumple su función ...   \n",
       "80001  El aparato tiene un tamaño perfecto. Y la embo...   \n",
       "80002  La luces llegaron en tiempo y bien, las ocho f...   \n",
       "80003  No sé puede apagar, está todo el rato consumie...   \n",
       "80004  Vino sin la goma ajustable en la tapa y si pon...   \n",
       "\n",
       "                                            review_title language  \\\n",
       "80000                         buena funda para movil 5,5       es   \n",
       "80001  Aparato perfecto para verduras (no cebollas, n...       es   \n",
       "80002                                     Poco duraderas       es   \n",
       "80003                              Lo peor es el apagado       es   \n",
       "80004   Le faltó la goma a la tapa para que ajuste bien.       es   \n",
       "\n",
       "      product_category  \n",
       "80000         wireless  \n",
       "80001          kitchen  \n",
       "80002             home  \n",
       "80003             home  \n",
       "80004             home  "
      ]
     },
     "execution_count": 20,
     "metadata": {},
     "output_type": "execute_result"
    }
   ],
   "source": [
    "# Se crea variable con intancias cuya calificacio estan entre 3,4 y 5\n",
    "dataset_stars_3_4_5 = dataset[dataset.stars >= 3]\n",
    "dataset_stars_3_4_5.head()"
   ]
  },
  {
   "cell_type": "code",
   "execution_count": 21,
   "metadata": {},
   "outputs": [],
   "source": [
    "# Se filtra las stopwords con libreria de nltk y se emplea tokenizador de spacy\n",
    "\n",
    "todas_criticas_stars_3_4_5 = [] # Se crea lista donde se almacenara cada intancia luego del procesamiento del lenguaje natural\n",
    "\n",
    "for i in range(dataset_stars_3_4_5.shape[0]): # Ciclo para recorrer fila por fila\n",
    "    critica = dataset_stars_3_4_5.iloc[i].review_title # selecciona la instancia y especificamente la columna titulo\n",
    "    critica=re.sub(\"[^a-záéíóúA-Z]\",\" \",str(critica))# Elimina cualquier tipo de caracter excepto las letras incluidas \n",
    "    a,b = 'áéíóúü','aeiouu' # convierte las vocales en tilde en vocales sin tilde\n",
    "    trans = str.maketrans(a,b) # carga la transformacion\n",
    "    critica = critica.translate(trans) # ejecuta la tranformacion en cada instancia\n",
    "    critica = critica.lower()# Pasa cada instancia a minúsculas\n",
    "    critica = nltk.tokenize.RegexpTokenizer(\"[\\w]+\").tokenize(critica) # Tokeniza cada instancia con regexptokenizer\n",
    "    critica = [palabra for palabra in critica if (len(palabra)>3 or palabra == ('no'))] # Eliminamos las palabras \n",
    "    # menores a 3 letras y deja la palabra no\n",
    "    critica = [palabra for palabra in critica if palabra not in stopwords] # Filtra cada instancia las stopwords de nltk \n",
    "    critica=re.sub(\"[^a-záéíóúA-Z]\",\" \",str(critica)) # se convierte instancia a string\n",
    "    critica = critica.strip() # se eliminan espacios entre las palabras\n",
    "    critica = \" \".join(re.split(r\"\\s+\", critica)) # se eliminan espacios iniciales o finales\n",
    "    critica_cleaned = nlp(critica) # se carga libreria de spacy de pln\n",
    "    critica_lemma = list(token.lemma_ for token in critica_cleaned) # se tokeniza cada instancia\n",
    "    todas_criticas_stars_3_4_5.append(critica_lemma) # se agrega el resultado a la lista    \n",
    "\n",
    "# Esta celda convierte una lista de listas en una unica lista\n",
    "todas_criticas_stars_3_4_5 = list(itertools.chain(*todas_criticas_stars_3_4_5))    "
   ]
  },
  {
   "cell_type": "code",
   "execution_count": 22,
   "metadata": {},
   "outputs": [
    {
     "data": {
      "text/plain": [
       "FreqDist({'bueno': 20351, 'calidad': 10290, 'preciar': 7692, 'no': 7487, 'perfecto': 5680, 'producto': 4754, 'bonito': 3366, 'comprar': 3164, 'cumplir': 2837, 'correcto': 2519, ...})"
      ]
     },
     "execution_count": 22,
     "metadata": {},
     "output_type": "execute_result"
    }
   ],
   "source": [
    "# Frecuencia de aparicion de las  palabras\n",
    "freq_criticas_stars_3_4_5 = nltk.FreqDist(todas_criticas_stars_3_4_5)\n",
    "freq_criticas_stars_3_4_5"
   ]
  },
  {
   "cell_type": "code",
   "execution_count": 23,
   "metadata": {},
   "outputs": [],
   "source": [
    "# Se crea un dataframe con la frecuencia de las palabras \n",
    "df_criticas_stars_3_4_5 = pd.DataFrame.from_dict(freq_criticas_stars_3_4_5,orient='index').reset_index()\n",
    "df_criticas_stars_3_4_5.columns = ['Word','Frequency']"
   ]
  },
  {
   "cell_type": "code",
   "execution_count": 24,
   "metadata": {},
   "outputs": [],
   "source": [
    "# Se ordena el dataframe de mayor a menor\n",
    "df_criticas_stars_3_4_5.sort_values('Frequency',ascending=False,inplace=True)"
   ]
  },
  {
   "cell_type": "code",
   "execution_count": 25,
   "metadata": {},
   "outputs": [],
   "source": [
    "# Se resetea el index\n",
    "df_criticas_stars_3_4_5.reset_index(drop = True, inplace=True)"
   ]
  },
  {
   "cell_type": "code",
   "execution_count": 26,
   "metadata": {},
   "outputs": [
    {
     "data": {
      "image/png": "[encoded data removed]",
      "text/plain": [
       "<Figure size 1080x576 with 1 Axes>"
      ]
     },
     "metadata": {},
     "output_type": "display_data"
    }
   ],
   "source": [
    "# Grafica de frecuencia de las palabras de mayor a menor\n",
    "plt.figure(figsize = (15,8))\n",
    "plot = sns.barplot(x  = df_criticas_stars_3_4_5.iloc[:30].Word, y = df_criticas_stars_3_4_5.iloc[:30].Frequency)\n",
    "for item in plot.get_xticklabels():\n",
    "    item.set_rotation(90)\n",
    "plt.show()"
   ]
  },
  {
   "cell_type": "markdown",
   "metadata": {},
   "source": [
    "# De acuerdo a la grafica de barras , palabras como bueno, calidad, perfecto y  bonito,  estan asociadas con calificaciones positivas."
   ]
  },
  {
   "cell_type": "markdown",
   "metadata": {},
   "source": [
    "## ¿Alguna categoria de producto se puede asociar a calificaciones positivas o negativas?"
   ]
  },
  {
   "cell_type": "code",
   "execution_count": 27,
   "metadata": {},
   "outputs": [
    {
     "data": {
      "text/plain": [
       "<matplotlib.legend.Legend at 0x293fa700430>"
      ]
     },
     "execution_count": 27,
     "metadata": {},
     "output_type": "execute_result"
    },
    {
     "data": {
      "image/png": "[encoded data removed]",
      "text/plain": [
       "<Figure size 1080x432 with 1 Axes>"
      ]
     },
     "metadata": {},
     "output_type": "display_data"
    }
   ],
   "source": [
    "# Agrupacion de categorias por satisfacción\n",
    "dataset.groupby(['product_category','stars'])['stars'].count().unstack().plot(kind='bar', stacked=True, figsize=(15,6))\n",
    "plt.legend(loc='upper center', ncol=3, bbox_to_anchor=(0.5, 1.05))"
   ]
  },
  {
   "cell_type": "markdown",
   "metadata": {},
   "source": [
    "En general todas las categorias presentan una variedad similar de calificaciones bajas, medias y altas , por lo tanto, una categoria en especifico no permite asociar la satisfaccion de los usuarios respecto a una determinada categoria de producto."
   ]
  },
  {
   "cell_type": "markdown",
   "metadata": {},
   "source": [
    "Luego del analisis exploratorio de los datos se puede concluir lo siguiente:\n",
    "- Por medio de las palabras es posible asociar el grado de satisfaccion de los usuarios con respecto al producto. Hay que tener presente que tanto en opiniones positivas como negativas, los usuarios utilizan palabras muy similares, por lo tanto, en la etapa de procesamiento natural de los datos se debe encontrar las mejores tecnicas que permitan obtener la mejor linea divisoria de las satisfacciones \n",
    "- La satisfaccion de un usuario por el producto no es posible relacionarla con alguna categoria en especifico, es decir, todas las categorias, aunque unas presenten mas movimiento que otras, presentan un balance de calificacion por parte de los usuarios. Esto permite deducir que hay un producto para cada tipo de usuario.\n",
    "- La opinion de los usuarios es subjetiva, por lo tanto, aquellas calificaciones intermedias no son concluyentes para determinar la satisfaccion de los usuarios."
   ]
  },
  {
   "cell_type": "markdown",
   "metadata": {},
   "source": [
    "# Procesamiento del lenguaje natural"
   ]
  },
  {
   "cell_type": "markdown",
   "metadata": {},
   "source": [
    "Al hacer revision de los datos, se identifico que la columna de titulo generaliza la opinion de los usuarios respecto al producto, por lo tanto, se carga la columna de review_title junto a stars"
   ]
  },
  {
   "cell_type": "code",
   "execution_count": 38,
   "metadata": {},
   "outputs": [
    {
     "data": {
      "text/html": [
       "<div>\n",
       "<style scoped>\n",
       "    .dataframe tbody tr th:only-of-type {\n",
       "        vertical-align: middle;\n",
       "    }\n",
       "\n",
       "    .dataframe tbody tr th {\n",
       "        vertical-align: top;\n",
       "    }\n",
       "\n",
       "    .dataframe thead th {\n",
       "        text-align: right;\n",
       "    }\n",
       "</style>\n",
       "<table border=\"1\" class=\"dataframe\">\n",
       "  <thead>\n",
       "    <tr style=\"text-align: right;\">\n",
       "      <th></th>\n",
       "      <th>review_title</th>\n",
       "      <th>stars</th>\n",
       "    </tr>\n",
       "  </thead>\n",
       "  <tbody>\n",
       "    <tr>\n",
       "      <th>0</th>\n",
       "      <td>television Nevir</td>\n",
       "      <td>1</td>\n",
       "    </tr>\n",
       "    <tr>\n",
       "      <th>1</th>\n",
       "      <td>Dinero tirado a la basura con esta compra</td>\n",
       "      <td>1</td>\n",
       "    </tr>\n",
       "    <tr>\n",
       "      <th>2</th>\n",
       "      <td>solo llega una unidad cuando te obligan a comp...</td>\n",
       "      <td>1</td>\n",
       "    </tr>\n",
       "    <tr>\n",
       "      <th>3</th>\n",
       "      <td>PRODUCTO NO RECIBIDO.</td>\n",
       "      <td>1</td>\n",
       "    </tr>\n",
       "    <tr>\n",
       "      <th>4</th>\n",
       "      <td>Devuelto</td>\n",
       "      <td>1</td>\n",
       "    </tr>\n",
       "  </tbody>\n",
       "</table>\n",
       "</div>"
      ],
      "text/plain": [
       "                                        review_title  stars\n",
       "0                                   television Nevir      1\n",
       "1          Dinero tirado a la basura con esta compra      1\n",
       "2  solo llega una unidad cuando te obligan a comp...      1\n",
       "3                              PRODUCTO NO RECIBIDO.      1\n",
       "4                                           Devuelto      1"
      ]
     },
     "execution_count": 38,
     "metadata": {},
     "output_type": "execute_result"
    }
   ],
   "source": [
    "# Se seleccionan dos atributos los cuales son el cuerpo del titulo y las calificaciones asociadas.\n",
    "dataset=pd.concat([dataset.review_title,dataset.stars],axis=1)\n",
    "# Si hay alguna nan, se eliminan esas instancias\n",
    "dataset.dropna(axis=0,inplace=True)  \n",
    "# Se visualiza las cinco primeras instancias.\n",
    "dataset.head()"
   ]
  },
  {
   "cell_type": "code",
   "execution_count": 39,
   "metadata": {},
   "outputs": [],
   "source": [
    "# Se carga idioma español para libreria spacy\n",
    "nlp = es_core_news_sm.load()"
   ]
  },
  {
   "cell_type": "markdown",
   "metadata": {},
   "source": [
    "### NORMALIZACION"
   ]
  },
  {
   "cell_type": "markdown",
   "metadata": {},
   "source": [
    "### En el procesamiento del lenguaje natural se implementa las siguientes tecnicas de normalizacion:\n",
    "\n",
    "1. Inicialmente se limpian los caracteres, el cual permite dejar el texto con los caracteres de interes. Para esto se emplea la libreria re. \n",
    "\n",
    "\n",
    "2. Se pasan todos los caracteres del texto a minuscula con el metodo lower\n",
    "\n",
    "\n",
    "3. Por medio de la libreria de nltk, se tokeniza por palabra. Luego usando las stopwords y un condicional \n",
    "   se remueven aquellas palabras menores a 3 letras y las que estan en la lista de stopwords.\n",
    "   \n",
    "   \n",
    "4. En la etapa de llevar a raiz las palabras inicialmente se hicieron pruebas con la libreria nltk pero al no tener\n",
    "   una base de datos robusta para el idioma español, los resultados no son alentadores. Por lo tanto, siguiendo las\n",
    "   recomendaciones del proyecto 3, se utiliza la libreria spacy y se carga el idioma español.\n",
    "   Con la libreria spacy se lleva a cabo la etapa de transformar las palabras a su raiz con el metodo lemmatizer."
   ]
  },
  {
   "cell_type": "code",
   "execution_count": 40,
   "metadata": {},
   "outputs": [],
   "source": [
    "# Se recorre todas las opiniones  y se aplica la normalizacion \n",
    "opinion_list=[]\n",
    "for opinion in dataset.review_title:\n",
    "    \n",
    "    # Se reemplaza los caracteres que no sean letras por espacios y reemplaza las letras con tilde por letras\n",
    "    # sin tilde\n",
    "    opinion=re.sub(\"[^a-záéíóúA-Z]\",\" \",str(opinion))\n",
    "    a,b = 'áéíóúü','aeiouu'\n",
    "    trans = str.maketrans(a,b)\n",
    "    opinion = opinion.translate(trans)\n",
    "    # Pasamos todo a minúsculas\n",
    "    opinion=opinion.lower()\n",
    "    # Tokenizamos con RegexpTokenizer para obtener mejor rendimiento de stopwords\n",
    "    opinion = nltk.tokenize.RegexpTokenizer(\"[\\w]+\").tokenize(opinion) \n",
    "    # Eliminamos las palabras de menos de 3 letras excepto la palabra 'no'\n",
    "    opinion = [palabra for palabra in opinion if (len(palabra)>3 or palabra == ('no'))] \n",
    "    # Eliminamos las stopwords\n",
    "    opinion_cleaned = [palabra for palabra in opinion if palabra not in stopwords] # Filtrar por stopwords \n",
    "    # Convertimos cada frase a string y se elimina espacios adicionales\n",
    "    opinion_cleaned=re.sub(\"[^a-záéíóúA-Z]\",\" \",str(opinion_cleaned))\n",
    "    opinion_cleaned = opinion_cleaned.strip()\n",
    "    opinion_cleaned = \" \".join(re.split(r\"\\s+\", opinion_cleaned))\n",
    "    ## Lemmatizamos con libreria de spacy\n",
    "    opinion_cleaned = nlp(opinion_cleaned)\n",
    "    doc_lemma = list(token.lemma_ for token in opinion_cleaned)\n",
    "    doc_lemma = str(doc_lemma)  \n",
    "    # Vamos armando una lista con todos los titulares\n",
    "    opinion_list.append(doc_lemma)"
   ]
  },
  {
   "cell_type": "code",
   "execution_count": 65,
   "metadata": {},
   "outputs": [
    {
     "data": {
      "text/html": [
       "<div>\n",
       "<style scoped>\n",
       "    .dataframe tbody tr th:only-of-type {\n",
       "        vertical-align: middle;\n",
       "    }\n",
       "\n",
       "    .dataframe tbody tr th {\n",
       "        vertical-align: top;\n",
       "    }\n",
       "\n",
       "    .dataframe thead th {\n",
       "        text-align: right;\n",
       "    }\n",
       "</style>\n",
       "<table border=\"1\" class=\"dataframe\">\n",
       "  <thead>\n",
       "    <tr style=\"text-align: right;\">\n",
       "      <th></th>\n",
       "      <th>review_title</th>\n",
       "      <th>stars</th>\n",
       "      <th>opinion_stem</th>\n",
       "    </tr>\n",
       "  </thead>\n",
       "  <tbody>\n",
       "    <tr>\n",
       "      <th>0</th>\n",
       "      <td>television Nevir</td>\n",
       "      <td>1</td>\n",
       "      <td>['television', 'nevir']</td>\n",
       "    </tr>\n",
       "    <tr>\n",
       "      <th>1</th>\n",
       "      <td>Dinero tirado a la basura con esta compra</td>\n",
       "      <td>1</td>\n",
       "      <td>['dinero', 'tirar', 'basura', 'comprar']</td>\n",
       "    </tr>\n",
       "    <tr>\n",
       "      <th>2</th>\n",
       "      <td>solo llega una unidad cuando te obligan a comp...</td>\n",
       "      <td>1</td>\n",
       "      <td>['solo', 'llegar', 'unidad', 'obligar', 'compr...</td>\n",
       "    </tr>\n",
       "    <tr>\n",
       "      <th>3</th>\n",
       "      <td>PRODUCTO NO RECIBIDO.</td>\n",
       "      <td>1</td>\n",
       "      <td>['producto', 'no', 'recibir']</td>\n",
       "    </tr>\n",
       "    <tr>\n",
       "      <th>4</th>\n",
       "      <td>Devuelto</td>\n",
       "      <td>1</td>\n",
       "      <td>['devolver']</td>\n",
       "    </tr>\n",
       "  </tbody>\n",
       "</table>\n",
       "</div>"
      ],
      "text/plain": [
       "                                        review_title  stars  \\\n",
       "0                                   television Nevir      1   \n",
       "1          Dinero tirado a la basura con esta compra      1   \n",
       "2  solo llega una unidad cuando te obligan a comp...      1   \n",
       "3                              PRODUCTO NO RECIBIDO.      1   \n",
       "4                                           Devuelto      1   \n",
       "\n",
       "                                        opinion_stem  \n",
       "0                            ['television', 'nevir']  \n",
       "1           ['dinero', 'tirar', 'basura', 'comprar']  \n",
       "2  ['solo', 'llegar', 'unidad', 'obligar', 'compr...  \n",
       "3                      ['producto', 'no', 'recibir']  \n",
       "4                                       ['devolver']  "
      ]
     },
     "execution_count": 65,
     "metadata": {},
     "output_type": "execute_result"
    }
   ],
   "source": [
    "# Se agrega columna con las opiniones stemmizadas\n",
    "dataset[\"opinion_stem\"] = opinion_list\n",
    "dataset.head()"
   ]
  },
  {
   "cell_type": "code",
   "execution_count": 66,
   "metadata": {},
   "outputs": [
    {
     "name": "stdout",
     "output_type": "stream",
     "text": [
      "2 solo llega una unidad cuando te obligan a comprar dos\n"
     ]
    }
   ],
   "source": [
    "# Se selecciona una instancia  y se visualiza el contenido del titulo en el dataset principal\n",
    "index_random = 2\n",
    "satisfaccion = dataset.iloc[index_random].review_title\n",
    "print(index_random, satisfaccion)"
   ]
  },
  {
   "cell_type": "code",
   "execution_count": 67,
   "metadata": {},
   "outputs": [
    {
     "name": "stdout",
     "output_type": "stream",
     "text": [
      "2 ['solo', 'llegar', 'unidad', 'obligar', 'comprar']\n"
     ]
    }
   ],
   "source": [
    "# Se selecciona una instancia  y se visualiza el contenido del titulo luego del procesamiento de los datos\n",
    "index_random = 2\n",
    "satisfaccion = dataset.iloc[index_random].opinion_stem\n",
    "print(index_random, satisfaccion)"
   ]
  },
  {
   "cell_type": "code",
   "execution_count": 68,
   "metadata": {},
   "outputs": [
    {
     "data": {
      "text/html": [
       "<div>\n",
       "<style scoped>\n",
       "    .dataframe tbody tr th:only-of-type {\n",
       "        vertical-align: middle;\n",
       "    }\n",
       "\n",
       "    .dataframe tbody tr th {\n",
       "        vertical-align: top;\n",
       "    }\n",
       "\n",
       "    .dataframe thead th {\n",
       "        text-align: right;\n",
       "    }\n",
       "</style>\n",
       "<table border=\"1\" class=\"dataframe\">\n",
       "  <thead>\n",
       "    <tr style=\"text-align: right;\">\n",
       "      <th></th>\n",
       "      <th>opinion_stem</th>\n",
       "      <th>stars</th>\n",
       "    </tr>\n",
       "  </thead>\n",
       "  <tbody>\n",
       "    <tr>\n",
       "      <th>0</th>\n",
       "      <td>['television', 'nevir']</td>\n",
       "      <td>1</td>\n",
       "    </tr>\n",
       "    <tr>\n",
       "      <th>1</th>\n",
       "      <td>['dinero', 'tirar', 'basura', 'comprar']</td>\n",
       "      <td>1</td>\n",
       "    </tr>\n",
       "    <tr>\n",
       "      <th>2</th>\n",
       "      <td>['solo', 'llegar', 'unidad', 'obligar', 'compr...</td>\n",
       "      <td>1</td>\n",
       "    </tr>\n",
       "    <tr>\n",
       "      <th>3</th>\n",
       "      <td>['producto', 'no', 'recibir']</td>\n",
       "      <td>1</td>\n",
       "    </tr>\n",
       "    <tr>\n",
       "      <th>4</th>\n",
       "      <td>['devolver']</td>\n",
       "      <td>1</td>\n",
       "    </tr>\n",
       "  </tbody>\n",
       "</table>\n",
       "</div>"
      ],
      "text/plain": [
       "                                        opinion_stem  stars\n",
       "0                            ['television', 'nevir']      1\n",
       "1           ['dinero', 'tirar', 'basura', 'comprar']      1\n",
       "2  ['solo', 'llegar', 'unidad', 'obligar', 'compr...      1\n",
       "3                      ['producto', 'no', 'recibir']      1\n",
       "4                                       ['devolver']      1"
      ]
     },
     "execution_count": 68,
     "metadata": {},
     "output_type": "execute_result"
    }
   ],
   "source": [
    "# Se crea un dataframe con las opiniones ya procesadas y se adjunta las estrellas\n",
    "dataset_stem=pd.concat([dataset.opinion_stem,dataset.stars],axis=1)\n",
    "dataset_stem.dropna(axis=0,inplace=True)  # Por si quedaron titulares vacios\n",
    "dataset_stem.head()"
   ]
  },
  {
   "cell_type": "markdown",
   "metadata": {},
   "source": [
    "### VECTORIZACION"
   ]
  },
  {
   "cell_type": "code",
   "execution_count": 69,
   "metadata": {},
   "outputs": [],
   "source": [
    "# se crea  lista con las opiniones y las calificaciones \n",
    "list_opinion = list(dataset_stem['opinion_stem'].values)\n",
    "stars = dataset_stem['stars'].values"
   ]
  },
  {
   "cell_type": "code",
   "execution_count": 70,
   "metadata": {},
   "outputs": [],
   "source": [
    "# Se usan las 3000 palabras con mas frecuencia en todo el corpus para generar los vectores.\n",
    "# Al realizar pruebas manuales, con 3000 palabras se identifico un buen desempeño de los modelos\n",
    "max_features=3000\n",
    "# Ccada instancia o fila tendrá 3000 features\n",
    "cou_vec=CountVectorizer(max_features=max_features,ngram_range=(1, 2)) # stop_words=\"english\" , ngram_range=(1, 2)"
   ]
  },
  {
   "cell_type": "code",
   "execution_count": 71,
   "metadata": {
    "scrolled": true
   },
   "outputs": [
    {
     "name": "stdout",
     "output_type": "stream",
     "text": [
      "50 palabras mas usadas:  ['abajar', 'abollar', 'abonar', 'abrigar', 'abrir', 'absolutamente', 'absoluto', 'absorber', 'aburrir', 'acabar', 'accesorio', 'aceitar', 'aceptable', 'aceptable preciar', 'acerar', 'acerar inoxidable', 'acertar', 'acolchar', 'aconsejable', 'aconsejar', 'acoplar', 'acordar', 'acorde', 'acorde preciar', 'actividad', 'actualizar', 'adaptable', 'adaptacion', 'adaptador', 'adaptar', 'adaptar perfectamente', 'adecuadamente', 'adecuar', 'adelantar', 'ademar', 'adherencia', 'adherir', 'adhesion', 'adhesivo', 'adios', 'adir', 'adolescente', 'ador', 'adornar', 'adquisicion', 'adulto', 'afeitar', 'afilar', 'agarrar', 'agenda']\n"
     ]
    }
   ],
   "source": [
    "# Se lleva a cabo la transformacion de los datos y se almacena en un matriz_opiniones\n",
    "matriz_opiniones = cou_vec.fit_transform(list_opinion)\n",
    "# Tomamos las palabras\n",
    "all_words = cou_vec.get_feature_names()\n",
    "# Se visualiz las 50 palabras mas usadas\n",
    "print(\"50 palabras mas usadas: \",all_words[0:50])"
   ]
  },
  {
   "cell_type": "markdown",
   "metadata": {},
   "source": [
    "# Aplicación de Deep Learning"
   ]
  },
  {
   "cell_type": "markdown",
   "metadata": {},
   "source": [
    "De antemano se tienen variables categoricas, por lo tanto, no es necesario realizar transformaciones a los datos, ademas, en la etapa de procesamiento ya se tienen los datos vectorizados.\n",
    "\n",
    "Antes de llevar a  cabo el entrenamiento se  divide el dataframe en datos de entrenamiento y testeo.\n",
    "Esto permitira evaluar el rendimiento de los modelos."
   ]
  },
  {
   "cell_type": "code",
   "execution_count": 72,
   "metadata": {},
   "outputs": [],
   "source": [
    "# Se crean variables X y Y donde se almacenan las instancias y las etiquetas ya procesadas en pasos anteriores \n",
    "# con tecnicas de procesamiento de lenguaje natural\n",
    "x = matriz_opiniones.toarray()\n",
    "y = stars"
   ]
  },
  {
   "cell_type": "markdown",
   "metadata": {},
   "source": [
    "# Binarización de las opiniones "
   ]
  },
  {
   "cell_type": "code",
   "execution_count": 73,
   "metadata": {},
   "outputs": [],
   "source": [
    "# Se agrupa estrellas 1 y 2 en 0 y estrellas 3,4 y 5 en 1\n",
    "np.putmask(y, y<=3, 0)\n",
    "np.putmask(y, y>3, 1)"
   ]
  },
  {
   "cell_type": "code",
   "execution_count": 74,
   "metadata": {},
   "outputs": [
    {
     "data": {
      "image/png": "[encoded data removed]",
      "text/plain": [
       "<Figure size 432x288 with 1 Axes>"
      ]
     },
     "metadata": {},
     "output_type": "display_data"
    }
   ],
   "source": [
    "# Grafica de barras de cantidad de estrellas luego de la binarización\n",
    "sns.countplot(y)\n",
    "plt.show()"
   ]
  },
  {
   "cell_type": "code",
   "execution_count": 75,
   "metadata": {},
   "outputs": [],
   "source": [
    "# Se destina un 80% de los datos para entrenamiento y un 20% para testeo\n",
    "xtrain, xtest, ytrain, ytest = train_test_split(x,y,test_size=0.2,random_state=42,stratify=y)"
   ]
  },
  {
   "cell_type": "markdown",
   "metadata": {},
   "source": [
    "# Modelo de Deep Learning"
   ]
  },
  {
   "cell_type": "markdown",
   "metadata": {},
   "source": [
    "# Redes neuronales\n"
   ]
  },
  {
   "cell_type": "code",
   "execution_count": 76,
   "metadata": {},
   "outputs": [],
   "source": [
    "# Se carga modelo de redes neuronales y se entrena\n",
    "# Luego de probar varias configuraciones de combinacion de capas ocultas  y neuronas, se identifico que uno de los\n",
    "# mejores rendimientos es con la  siguiente arquitectura:"
   ]
  },
  {
   "cell_type": "markdown",
   "metadata": {},
   "source": [
    "## Arquitectura\n",
    "\n",
    "- Capa de entrada: Recibe 3000 caracteristicas con 100 neuronas\n",
    "- Capa 2 oculta: Tiene 100 neuronas\n",
    "- Capa 3 oculta: Tiene 100 neuronas\n",
    "- Capa 4 oculta: Tiene 50 neuronas\n",
    "- Capa 5 oculta: Tiene 25 neuronas\n",
    "- Capa de salida : Tiene 1 neurona\n",
    "\n",
    "Se selecciono 3000 caracteristicas de entrada porque  brinda mas informacion al clasificador para obtener el mejor modelo en terminos de tiempo de entrenamiento y rendimiento. \n",
    "Se emplea la activacion de sigmoide RELU para mantener las salidas de las neuronas positivas, teniendo en cuenta que los datos de los vectores oscilan entre 0 y 1.\n",
    "Finalemente para la salida de la arquitectura se utiliza la funcion de activacion sigmoidal, el cual suele usarse para problemas binarios como es este caso.\n"
   ]
  },
  {
   "cell_type": "code",
   "execution_count": 77,
   "metadata": {},
   "outputs": [],
   "source": [
    "# Se crea la arquitectura\n",
    "model = Sequential()\n",
    "model.add(Dense(100, input_dim=3000, activation='relu'))\n",
    "model.add(Dense(100,activation='relu'))\n",
    "model.add(Dense(100,activation='relu'))\n",
    "model.add(Dense(50,activation='relu'))\n",
    "model.add(Dense(25,activation='relu'))\n",
    "model.add(Dense(1, activation='sigmoid'))"
   ]
  },
  {
   "cell_type": "code",
   "execution_count": 78,
   "metadata": {},
   "outputs": [],
   "source": [
    "# Como metodo de optimizacion se emplea  Adam el cual es una extensión del descenso de gradiente estocástico \n",
    "# que  recientemente ha tenido una adopción más amplia para aplicaciones de aprendizaje profundo en visión por\n",
    "# computadora y procesamiento de lenguaje natural. Fue desarrollado por Adam en el paper Method for Stochastic\n",
    "# Optimization y se emplea los hiperparametros consignados en el paper para beta_1, beta_2 . Para la taza de \n",
    "# aprenzidaje, se realizan varios entrenamientos para identificar el valor que permita el mejor rendimiento."
   ]
  },
  {
   "cell_type": "code",
   "execution_count": 80,
   "metadata": {},
   "outputs": [],
   "source": [
    "# Se seleccionan hyperparamatros y se cargan junto al modelo\n",
    "optimizer = keras.optimizers.Adam(lr=0.0001, beta_1=0.9, beta_2=0.999, epsilon=1e-07, decay=0.0, amsgrad=False)\n",
    "model.compile(optimizer= optimizer,loss='binary_crossentropy',metrics='accuracy')"
   ]
  },
  {
   "cell_type": "code",
   "execution_count": 81,
   "metadata": {},
   "outputs": [
    {
     "name": "stdout",
     "output_type": "stream",
     "text": [
      "Epoch 1/200\n",
      "5000/5000 [==============================] - 19s 4ms/step - loss: 0.4361 - accuracy: 0.7871\n",
      "Epoch 2/200\n",
      "5000/5000 [==============================] - 18s 4ms/step - loss: 0.3957 - accuracy: 0.8106\n",
      "Epoch 3/200\n",
      "5000/5000 [==============================] - 18s 4ms/step - loss: 0.3880 - accuracy: 0.8144\n",
      "Epoch 4/200\n",
      "5000/5000 [==============================] - 18s 4ms/step - loss: 0.3817 - accuracy: 0.8169\n",
      "Epoch 5/200\n",
      "5000/5000 [==============================] - 18s 4ms/step - loss: 0.3760 - accuracy: 0.8201\n",
      "Epoch 6/200\n",
      "5000/5000 [==============================] - 18s 4ms/step - loss: 0.3699 - accuracy: 0.8232\n",
      "Epoch 7/200\n",
      "5000/5000 [==============================] - 18s 4ms/step - loss: 0.3635 - accuracy: 0.8269\n",
      "Epoch 8/200\n",
      "5000/5000 [==============================] - 18s 4ms/step - loss: 0.3561 - accuracy: 0.8305\n",
      "Epoch 9/200\n",
      "5000/5000 [==============================] - 19s 4ms/step - loss: 0.3481 - accuracy: 0.8349\n",
      "Epoch 10/200\n",
      "5000/5000 [==============================] - 18s 4ms/step - loss: 0.3403 - accuracy: 0.8388\n",
      "Epoch 11/200\n",
      "5000/5000 [==============================] - 18s 4ms/step - loss: 0.3327 - accuracy: 0.8416\n",
      "Epoch 12/200\n",
      "5000/5000 [==============================] - 19s 4ms/step - loss: 0.3260 - accuracy: 0.8457\n",
      "Epoch 13/200\n",
      "5000/5000 [==============================] - 18s 4ms/step - loss: 0.3205 - accuracy: 0.8476\n",
      "Epoch 14/200\n",
      "5000/5000 [==============================] - 18s 4ms/step - loss: 0.3159 - accuracy: 0.8496\n",
      "Epoch 15/200\n",
      "5000/5000 [==============================] - 19s 4ms/step - loss: 0.3118 - accuracy: 0.8519\n",
      "Epoch 16/200\n",
      "5000/5000 [==============================] - 20s 4ms/step - loss: 0.3087 - accuracy: 0.8528\n",
      "Epoch 17/200\n",
      "5000/5000 [==============================] - 19s 4ms/step - loss: 0.3054 - accuracy: 0.8538\n",
      "Epoch 18/200\n",
      "5000/5000 [==============================] - 18s 4ms/step - loss: 0.3031 - accuracy: 0.8543\n",
      "Epoch 19/200\n",
      "5000/5000 [==============================] - 20s 4ms/step - loss: 0.3009 - accuracy: 0.8556\n",
      "Epoch 20/200\n",
      "5000/5000 [==============================] - 19s 4ms/step - loss: 0.2988 - accuracy: 0.8563\n",
      "Epoch 21/200\n",
      "5000/5000 [==============================] - 18s 4ms/step - loss: 0.2973 - accuracy: 0.8567\n",
      "Epoch 22/200\n",
      "5000/5000 [==============================] - 18s 4ms/step - loss: 0.2958 - accuracy: 0.8571\n",
      "Epoch 23/200\n",
      "5000/5000 [==============================] - 19s 4ms/step - loss: 0.2947 - accuracy: 0.8571\n",
      "Epoch 24/200\n",
      "5000/5000 [==============================] - 20s 4ms/step - loss: 0.2934 - accuracy: 0.8579\n",
      "Epoch 25/200\n",
      "5000/5000 [==============================] - 18s 4ms/step - loss: 0.2926 - accuracy: 0.8580\n",
      "Epoch 26/200\n",
      "5000/5000 [==============================] - 19s 4ms/step - loss: 0.2915 - accuracy: 0.8587\n",
      "Epoch 27/200\n",
      "5000/5000 [==============================] - 18s 4ms/step - loss: 0.2907 - accuracy: 0.8583\n",
      "Epoch 28/200\n",
      "5000/5000 [==============================] - 18s 4ms/step - loss: 0.2896 - accuracy: 0.8589\n",
      "Epoch 29/200\n",
      "5000/5000 [==============================] - 18s 4ms/step - loss: 0.2889 - accuracy: 0.8588\n",
      "Epoch 30/200\n",
      "5000/5000 [==============================] - 18s 4ms/step - loss: 0.2883 - accuracy: 0.8590\n",
      "Epoch 31/200\n",
      "5000/5000 [==============================] - 18s 4ms/step - loss: 0.2877 - accuracy: 0.8598\n",
      "Epoch 32/200\n",
      "5000/5000 [==============================] - 17s 3ms/step - loss: 0.2871 - accuracy: 0.8596\n",
      "Epoch 33/200\n",
      "5000/5000 [==============================] - 18s 4ms/step - loss: 0.2868 - accuracy: 0.8593\n",
      "Epoch 34/200\n",
      "5000/5000 [==============================] - 18s 4ms/step - loss: 0.2859 - accuracy: 0.8597\n",
      "Epoch 35/200\n",
      "5000/5000 [==============================] - 17s 3ms/step - loss: 0.2856 - accuracy: 0.8595\n",
      "Epoch 36/200\n",
      "5000/5000 [==============================] - 18s 4ms/step - loss: 0.2854 - accuracy: 0.8599\n",
      "Epoch 37/200\n",
      "5000/5000 [==============================] - 18s 4ms/step - loss: 0.2847 - accuracy: 0.8602\n",
      "Epoch 38/200\n",
      "5000/5000 [==============================] - 18s 4ms/step - loss: 0.2843 - accuracy: 0.8602\n",
      "Epoch 39/200\n",
      "5000/5000 [==============================] - 18s 4ms/step - loss: 0.2840 - accuracy: 0.8604\n",
      "Epoch 40/200\n",
      "5000/5000 [==============================] - 18s 4ms/step - loss: 0.2836 - accuracy: 0.8603\n",
      "Epoch 41/200\n",
      "5000/5000 [==============================] - 18s 4ms/step - loss: 0.2834 - accuracy: 0.8603\n",
      "Epoch 42/200\n",
      "5000/5000 [==============================] - 17s 3ms/step - loss: 0.2833 - accuracy: 0.8602\n",
      "Epoch 43/200\n",
      "5000/5000 [==============================] - 18s 4ms/step - loss: 0.2829 - accuracy: 0.8604\n",
      "Epoch 44/200\n",
      "5000/5000 [==============================] - 18s 4ms/step - loss: 0.2825 - accuracy: 0.8605\n",
      "Epoch 45/200\n",
      "5000/5000 [==============================] - 18s 4ms/step - loss: 0.2824 - accuracy: 0.8608\n",
      "Epoch 46/200\n",
      "5000/5000 [==============================] - 18s 4ms/step - loss: 0.2822 - accuracy: 0.8606\n",
      "Epoch 47/200\n",
      "5000/5000 [==============================] - 17s 3ms/step - loss: 0.2821 - accuracy: 0.8608\n",
      "Epoch 48/200\n",
      "5000/5000 [==============================] - 18s 4ms/step - loss: 0.2817 - accuracy: 0.8606\n",
      "Epoch 49/200\n",
      "5000/5000 [==============================] - 18s 4ms/step - loss: 0.2816 - accuracy: 0.8607\n",
      "Epoch 50/200\n",
      "5000/5000 [==============================] - 18s 4ms/step - loss: 0.2814 - accuracy: 0.8610\n",
      "Epoch 51/200\n",
      "5000/5000 [==============================] - 18s 4ms/step - loss: 0.2812 - accuracy: 0.8609\n",
      "Epoch 52/200\n",
      "5000/5000 [==============================] - 18s 4ms/step - loss: 0.2812 - accuracy: 0.8610\n",
      "Epoch 53/200\n",
      "5000/5000 [==============================] - 18s 4ms/step - loss: 0.2812 - accuracy: 0.8605\n",
      "Epoch 54/200\n",
      "5000/5000 [==============================] - 18s 4ms/step - loss: 0.2809 - accuracy: 0.8610\n",
      "Epoch 55/200\n",
      "5000/5000 [==============================] - 18s 4ms/step - loss: 0.2810 - accuracy: 0.8608\n",
      "Epoch 56/200\n",
      "5000/5000 [==============================] - 18s 4ms/step - loss: 0.2806 - accuracy: 0.8609\n",
      "Epoch 57/200\n",
      "5000/5000 [==============================] - 18s 4ms/step - loss: 0.2809 - accuracy: 0.8608\n",
      "Epoch 58/200\n",
      "5000/5000 [==============================] - 18s 4ms/step - loss: 0.2805 - accuracy: 0.8612\n",
      "Epoch 59/200\n",
      "5000/5000 [==============================] - 18s 4ms/step - loss: 0.2803 - accuracy: 0.8612\n",
      "Epoch 60/200\n",
      "5000/5000 [==============================] - 18s 4ms/step - loss: 0.2803 - accuracy: 0.8613\n",
      "Epoch 61/200\n",
      "5000/5000 [==============================] - 18s 4ms/step - loss: 0.2804 - accuracy: 0.8609\n",
      "Epoch 62/200\n",
      "5000/5000 [==============================] - 18s 4ms/step - loss: 0.2801 - accuracy: 0.8612\n",
      "Epoch 63/200\n",
      "5000/5000 [==============================] - 18s 4ms/step - loss: 0.2801 - accuracy: 0.8610\n",
      "Epoch 64/200\n",
      "5000/5000 [==============================] - 18s 4ms/step - loss: 0.2801 - accuracy: 0.8611\n",
      "Epoch 65/200\n",
      "5000/5000 [==============================] - 18s 4ms/step - loss: 0.2802 - accuracy: 0.8609\n",
      "Epoch 66/200\n",
      "5000/5000 [==============================] - 18s 4ms/step - loss: 0.2798 - accuracy: 0.8609\n",
      "Epoch 67/200\n",
      "5000/5000 [==============================] - 18s 4ms/step - loss: 0.2800 - accuracy: 0.8611\n",
      "Epoch 68/200\n",
      "5000/5000 [==============================] - 18s 4ms/step - loss: 0.2798 - accuracy: 0.8612\n",
      "Epoch 69/200\n",
      "5000/5000 [==============================] - 18s 4ms/step - loss: 0.2796 - accuracy: 0.8613\n",
      "Epoch 70/200\n",
      "5000/5000 [==============================] - 19s 4ms/step - loss: 0.2795 - accuracy: 0.8613\n",
      "Epoch 71/200\n",
      "5000/5000 [==============================] - 19s 4ms/step - loss: 0.2798 - accuracy: 0.8612\n",
      "Epoch 72/200\n",
      "5000/5000 [==============================] - 18s 4ms/step - loss: 0.2797 - accuracy: 0.8614\n",
      "Epoch 73/200\n",
      "5000/5000 [==============================] - 18s 4ms/step - loss: 0.2794 - accuracy: 0.8616\n",
      "Epoch 74/200\n",
      "5000/5000 [==============================] - 18s 4ms/step - loss: 0.2793 - accuracy: 0.8612\n",
      "Epoch 75/200\n",
      "5000/5000 [==============================] - 18s 4ms/step - loss: 0.2793 - accuracy: 0.8611\n",
      "Epoch 76/200\n",
      "5000/5000 [==============================] - 18s 4ms/step - loss: 0.2794 - accuracy: 0.8614\n",
      "Epoch 77/200\n",
      "5000/5000 [==============================] - 18s 4ms/step - loss: 0.2793 - accuracy: 0.8613\n",
      "Epoch 78/200\n",
      "5000/5000 [==============================] - 18s 4ms/step - loss: 0.2793 - accuracy: 0.8614\n"
     ]
    },
    {
     "name": "stdout",
     "output_type": "stream",
     "text": [
      "Epoch 79/200\n",
      "5000/5000 [==============================] - 18s 4ms/step - loss: 0.2791 - accuracy: 0.8615\n",
      "Epoch 80/200\n",
      "5000/5000 [==============================] - 18s 4ms/step - loss: 0.2792 - accuracy: 0.8615\n",
      "Epoch 81/200\n",
      "5000/5000 [==============================] - 18s 4ms/step - loss: 0.2790 - accuracy: 0.8612\n",
      "Epoch 82/200\n",
      "5000/5000 [==============================] - 18s 4ms/step - loss: 0.2792 - accuracy: 0.8613\n",
      "Epoch 83/200\n",
      "5000/5000 [==============================] - 18s 4ms/step - loss: 0.2788 - accuracy: 0.8614\n",
      "Epoch 84/200\n",
      "5000/5000 [==============================] - 18s 4ms/step - loss: 0.2790 - accuracy: 0.8613\n",
      "Epoch 85/200\n",
      "5000/5000 [==============================] - 18s 4ms/step - loss: 0.2793 - accuracy: 0.8615\n",
      "Epoch 86/200\n",
      "5000/5000 [==============================] - 18s 4ms/step - loss: 0.2789 - accuracy: 0.8614\n",
      "Epoch 87/200\n",
      "5000/5000 [==============================] - 18s 4ms/step - loss: 0.2787 - accuracy: 0.8615\n",
      "Epoch 88/200\n",
      "5000/5000 [==============================] - 18s 4ms/step - loss: 0.2785 - accuracy: 0.8614\n",
      "Epoch 89/200\n",
      "5000/5000 [==============================] - 18s 4ms/step - loss: 0.2786 - accuracy: 0.8613\n",
      "Epoch 90/200\n",
      "5000/5000 [==============================] - 19s 4ms/step - loss: 0.2786 - accuracy: 0.8615\n",
      "Epoch 91/200\n",
      "5000/5000 [==============================] - 34s 7ms/step - loss: 0.2785 - accuracy: 0.8617\n",
      "Epoch 92/200\n",
      "5000/5000 [==============================] - 19s 4ms/step - loss: 0.2793 - accuracy: 0.8614\n",
      "Epoch 93/200\n",
      "5000/5000 [==============================] - 24s 5ms/step - loss: 0.2783 - accuracy: 0.8616\n",
      "Epoch 94/200\n",
      "5000/5000 [==============================] - 21s 4ms/step - loss: 0.2783 - accuracy: 0.8616\n",
      "Epoch 95/200\n",
      "5000/5000 [==============================] - 21s 4ms/step - loss: 0.2785 - accuracy: 0.8616\n",
      "Epoch 96/200\n",
      "5000/5000 [==============================] - 20s 4ms/step - loss: 0.2783 - accuracy: 0.8618\n",
      "Epoch 97/200\n",
      "5000/5000 [==============================] - 20s 4ms/step - loss: 0.2783 - accuracy: 0.8614\n",
      "Epoch 98/200\n",
      "5000/5000 [==============================] - 21s 4ms/step - loss: 0.2782 - accuracy: 0.8619\n",
      "Epoch 99/200\n",
      "5000/5000 [==============================] - 19s 4ms/step - loss: 0.2784 - accuracy: 0.8613\n",
      "Epoch 100/200\n",
      "5000/5000 [==============================] - 19s 4ms/step - loss: 0.2782 - accuracy: 0.8615\n",
      "Epoch 101/200\n",
      "5000/5000 [==============================] - 19s 4ms/step - loss: 0.2782 - accuracy: 0.8616\n",
      "Epoch 102/200\n",
      "5000/5000 [==============================] - 19s 4ms/step - loss: 0.2783 - accuracy: 0.8617\n",
      "Epoch 103/200\n",
      "5000/5000 [==============================] - 19s 4ms/step - loss: 0.2779 - accuracy: 0.8619\n",
      "Epoch 104/200\n",
      "5000/5000 [==============================] - 19s 4ms/step - loss: 0.2780 - accuracy: 0.8618\n",
      "Epoch 105/200\n",
      "5000/5000 [==============================] - 19s 4ms/step - loss: 0.2779 - accuracy: 0.8616\n",
      "Epoch 106/200\n",
      "5000/5000 [==============================] - 19s 4ms/step - loss: 0.2782 - accuracy: 0.8615\n",
      "Epoch 107/200\n",
      "5000/5000 [==============================] - 21s 4ms/step - loss: 0.2780 - accuracy: 0.8618\n",
      "Epoch 108/200\n",
      "5000/5000 [==============================] - 20s 4ms/step - loss: 0.2780 - accuracy: 0.8619\n",
      "Epoch 109/200\n",
      "5000/5000 [==============================] - 19s 4ms/step - loss: 0.2781 - accuracy: 0.8617\n",
      "Epoch 110/200\n",
      "5000/5000 [==============================] - 19s 4ms/step - loss: 0.2781 - accuracy: 0.8616\n",
      "Epoch 111/200\n",
      "5000/5000 [==============================] - 23s 5ms/step - loss: 0.2779 - accuracy: 0.8617\n",
      "Epoch 112/200\n",
      "5000/5000 [==============================] - 18s 4ms/step - loss: 0.2779 - accuracy: 0.8619\n",
      "Epoch 113/200\n",
      "5000/5000 [==============================] - 18s 4ms/step - loss: 0.2779 - accuracy: 0.8619\n",
      "Epoch 114/200\n",
      "5000/5000 [==============================] - 18s 4ms/step - loss: 0.2779 - accuracy: 0.8619\n",
      "Epoch 115/200\n",
      "5000/5000 [==============================] - 18s 4ms/step - loss: 0.2779 - accuracy: 0.8615\n",
      "Epoch 116/200\n",
      "5000/5000 [==============================] - 18s 4ms/step - loss: 0.2776 - accuracy: 0.8619\n",
      "Epoch 117/200\n",
      "5000/5000 [==============================] - 18s 4ms/step - loss: 0.2781 - accuracy: 0.8618\n",
      "Epoch 118/200\n",
      "5000/5000 [==============================] - 18s 4ms/step - loss: 0.2776 - accuracy: 0.8620\n",
      "Epoch 119/200\n",
      "5000/5000 [==============================] - 18s 4ms/step - loss: 0.2779 - accuracy: 0.8619\n",
      "Epoch 120/200\n",
      "5000/5000 [==============================] - 18s 4ms/step - loss: 0.2779 - accuracy: 0.8617\n",
      "Epoch 121/200\n",
      "5000/5000 [==============================] - 19s 4ms/step - loss: 0.2778 - accuracy: 0.8618\n",
      "Epoch 122/200\n",
      "5000/5000 [==============================] - 20s 4ms/step - loss: 0.2777 - accuracy: 0.8617\n",
      "Epoch 123/200\n",
      "5000/5000 [==============================] - 19s 4ms/step - loss: 0.2776 - accuracy: 0.8619\n",
      "Epoch 124/200\n",
      "5000/5000 [==============================] - 20s 4ms/step - loss: 0.2778 - accuracy: 0.8619\n",
      "Epoch 125/200\n",
      "5000/5000 [==============================] - 20s 4ms/step - loss: 0.2778 - accuracy: 0.8618\n",
      "Epoch 126/200\n",
      "5000/5000 [==============================] - 20s 4ms/step - loss: 0.2774 - accuracy: 0.8617\n",
      "Epoch 127/200\n",
      "5000/5000 [==============================] - 22s 4ms/step - loss: 0.2778 - accuracy: 0.8618\n",
      "Epoch 128/200\n",
      "5000/5000 [==============================] - 19s 4ms/step - loss: 0.2775 - accuracy: 0.8619\n",
      "Epoch 129/200\n",
      "5000/5000 [==============================] - 19s 4ms/step - loss: 0.2778 - accuracy: 0.8615\n",
      "Epoch 130/200\n",
      "5000/5000 [==============================] - 23s 5ms/step - loss: 0.2778 - accuracy: 0.8616\n",
      "Epoch 131/200\n",
      "5000/5000 [==============================] - 25s 5ms/step - loss: 0.2779 - accuracy: 0.8613\n",
      "Epoch 132/200\n",
      "5000/5000 [==============================] - 23s 5ms/step - loss: 0.2777 - accuracy: 0.8616\n",
      "Epoch 133/200\n",
      "5000/5000 [==============================] - 20s 4ms/step - loss: 0.2778 - accuracy: 0.8619\n",
      "Epoch 134/200\n",
      "5000/5000 [==============================] - 20s 4ms/step - loss: 0.2780 - accuracy: 0.8617\n",
      "Epoch 135/200\n",
      "5000/5000 [==============================] - 19s 4ms/step - loss: 0.2775 - accuracy: 0.8619\n",
      "Epoch 136/200\n",
      "5000/5000 [==============================] - 19s 4ms/step - loss: 0.2778 - accuracy: 0.8618\n",
      "Epoch 137/200\n",
      "5000/5000 [==============================] - 20s 4ms/step - loss: 0.2779 - accuracy: 0.8617\n",
      "Epoch 138/200\n",
      "5000/5000 [==============================] - 19s 4ms/step - loss: 0.2778 - accuracy: 0.8618\n",
      "Epoch 139/200\n",
      "5000/5000 [==============================] - 19s 4ms/step - loss: 0.2776 - accuracy: 0.8618\n",
      "Epoch 140/200\n",
      "5000/5000 [==============================] - 22s 4ms/step - loss: 0.2776 - accuracy: 0.8619\n",
      "Epoch 141/200\n",
      "5000/5000 [==============================] - 19s 4ms/step - loss: 0.2776 - accuracy: 0.8619\n",
      "Epoch 142/200\n",
      "5000/5000 [==============================] - 19s 4ms/step - loss: 0.2778 - accuracy: 0.8619\n",
      "Epoch 143/200\n",
      "5000/5000 [==============================] - 18s 4ms/step - loss: 0.2774 - accuracy: 0.8619\n",
      "Epoch 144/200\n",
      "5000/5000 [==============================] - 19s 4ms/step - loss: 0.2776 - accuracy: 0.8617\n",
      "Epoch 145/200\n",
      "5000/5000 [==============================] - 19s 4ms/step - loss: 0.2780 - accuracy: 0.8616\n",
      "Epoch 146/200\n",
      "5000/5000 [==============================] - 20s 4ms/step - loss: 0.2779 - accuracy: 0.8619\n",
      "Epoch 147/200\n",
      "5000/5000 [==============================] - 26s 5ms/step - loss: 0.2777 - accuracy: 0.8618\n",
      "Epoch 148/200\n",
      "5000/5000 [==============================] - 20s 4ms/step - loss: 0.2777 - accuracy: 0.8616\n",
      "Epoch 149/200\n",
      "5000/5000 [==============================] - 22s 4ms/step - loss: 0.2780 - accuracy: 0.8617\n",
      "Epoch 150/200\n",
      "5000/5000 [==============================] - 21s 4ms/step - loss: 0.2775 - accuracy: 0.8619\n",
      "Epoch 151/200\n",
      "5000/5000 [==============================] - 21s 4ms/step - loss: 0.2775 - accuracy: 0.8617\n",
      "Epoch 152/200\n",
      "5000/5000 [==============================] - 18s 4ms/step - loss: 0.2774 - accuracy: 0.8619\n",
      "Epoch 153/200\n",
      "5000/5000 [==============================] - 18s 4ms/step - loss: 0.2777 - accuracy: 0.8618\n",
      "Epoch 154/200\n",
      "5000/5000 [==============================] - 18s 4ms/step - loss: 0.2772 - accuracy: 0.8619\n",
      "Epoch 155/200\n",
      "5000/5000 [==============================] - 18s 4ms/step - loss: 0.2777 - accuracy: 0.8616\n",
      "Epoch 156/200\n"
     ]
    },
    {
     "name": "stdout",
     "output_type": "stream",
     "text": [
      "5000/5000 [==============================] - 20s 4ms/step - loss: 0.2775 - accuracy: 0.8622\n",
      "Epoch 157/200\n",
      "5000/5000 [==============================] - 22s 4ms/step - loss: 0.2777 - accuracy: 0.8620\n",
      "Epoch 158/200\n",
      "5000/5000 [==============================] - 25s 5ms/step - loss: 0.2774 - accuracy: 0.8618\n",
      "Epoch 159/200\n",
      "5000/5000 [==============================] - 22s 4ms/step - loss: 0.2774 - accuracy: 0.8619\n",
      "Epoch 160/200\n",
      "5000/5000 [==============================] - 25s 5ms/step - loss: 0.2774 - accuracy: 0.8619\n",
      "Epoch 161/200\n",
      "5000/5000 [==============================] - 26s 5ms/step - loss: 0.2775 - accuracy: 0.8621\n",
      "Epoch 162/200\n",
      "5000/5000 [==============================] - 22s 4ms/step - loss: 0.2774 - accuracy: 0.8620\n",
      "Epoch 163/200\n",
      "5000/5000 [==============================] - 19s 4ms/step - loss: 0.2776 - accuracy: 0.8618\n",
      "Epoch 164/200\n",
      "5000/5000 [==============================] - 19s 4ms/step - loss: 0.2773 - accuracy: 0.8620\n",
      "Epoch 165/200\n",
      "5000/5000 [==============================] - 18s 4ms/step - loss: 0.2773 - accuracy: 0.8621\n",
      "Epoch 166/200\n",
      "5000/5000 [==============================] - 21s 4ms/step - loss: 0.2775 - accuracy: 0.8618\n",
      "Epoch 167/200\n",
      "5000/5000 [==============================] - 23s 5ms/step - loss: 0.2774 - accuracy: 0.8619\n",
      "Epoch 168/200\n",
      "5000/5000 [==============================] - 19s 4ms/step - loss: 0.2773 - accuracy: 0.8619\n",
      "Epoch 169/200\n",
      "5000/5000 [==============================] - 20s 4ms/step - loss: 0.2774 - accuracy: 0.8620\n",
      "Epoch 170/200\n",
      "5000/5000 [==============================] - 20s 4ms/step - loss: 0.2772 - accuracy: 0.8621\n",
      "Epoch 171/200\n",
      "5000/5000 [==============================] - 22s 4ms/step - loss: 0.2771 - accuracy: 0.8618\n",
      "Epoch 172/200\n",
      "5000/5000 [==============================] - 19s 4ms/step - loss: 0.2772 - accuracy: 0.8621\n",
      "Epoch 173/200\n",
      "5000/5000 [==============================] - 19s 4ms/step - loss: 0.2774 - accuracy: 0.8621\n",
      "Epoch 174/200\n",
      "5000/5000 [==============================] - 19s 4ms/step - loss: 0.2771 - accuracy: 0.8619\n",
      "Epoch 175/200\n",
      "5000/5000 [==============================] - 20s 4ms/step - loss: 0.2773 - accuracy: 0.8619\n",
      "Epoch 176/200\n",
      "5000/5000 [==============================] - 18s 4ms/step - loss: 0.2773 - accuracy: 0.8621\n",
      "Epoch 177/200\n",
      "5000/5000 [==============================] - 18s 4ms/step - loss: 0.2772 - accuracy: 0.8620\n",
      "Epoch 178/200\n",
      "5000/5000 [==============================] - 18s 4ms/step - loss: 0.2773 - accuracy: 0.8620\n",
      "Epoch 179/200\n",
      "5000/5000 [==============================] - 19s 4ms/step - loss: 0.2772 - accuracy: 0.8618\n",
      "Epoch 180/200\n",
      "5000/5000 [==============================] - 21s 4ms/step - loss: 0.2773 - accuracy: 0.8622\n",
      "Epoch 181/200\n",
      "5000/5000 [==============================] - 21s 4ms/step - loss: 0.2772 - accuracy: 0.8620\n",
      "Epoch 182/200\n",
      "5000/5000 [==============================] - 23s 5ms/step - loss: 0.2775 - accuracy: 0.8619\n",
      "Epoch 183/200\n",
      "5000/5000 [==============================] - 19s 4ms/step - loss: 0.2771 - accuracy: 0.8618\n",
      "Epoch 184/200\n",
      "5000/5000 [==============================] - 18s 4ms/step - loss: 0.2774 - accuracy: 0.8618\n",
      "Epoch 185/200\n",
      "5000/5000 [==============================] - 18s 4ms/step - loss: 0.2770 - accuracy: 0.8620\n",
      "Epoch 186/200\n",
      "5000/5000 [==============================] - 18s 4ms/step - loss: 0.2771 - accuracy: 0.8623\n",
      "Epoch 187/200\n",
      "5000/5000 [==============================] - 20s 4ms/step - loss: 0.2773 - accuracy: 0.8621\n",
      "Epoch 188/200\n",
      "5000/5000 [==============================] - 20s 4ms/step - loss: 0.2772 - accuracy: 0.8620\n",
      "Epoch 189/200\n",
      "5000/5000 [==============================] - 20s 4ms/step - loss: 0.2774 - accuracy: 0.8621\n",
      "Epoch 190/200\n",
      "5000/5000 [==============================] - 21s 4ms/step - loss: 0.2773 - accuracy: 0.8620\n",
      "Epoch 191/200\n",
      "5000/5000 [==============================] - 20s 4ms/step - loss: 0.2775 - accuracy: 0.8619\n",
      "Epoch 192/200\n",
      "5000/5000 [==============================] - 28s 6ms/step - loss: 0.2771 - accuracy: 0.8621\n",
      "Epoch 193/200\n",
      "5000/5000 [==============================] - 20s 4ms/step - loss: 0.2771 - accuracy: 0.8620\n",
      "Epoch 194/200\n",
      "5000/5000 [==============================] - 18s 4ms/step - loss: 0.2769 - accuracy: 0.8620\n",
      "Epoch 195/200\n",
      "5000/5000 [==============================] - 18s 4ms/step - loss: 0.2773 - accuracy: 0.8619\n",
      "Epoch 196/200\n",
      "5000/5000 [==============================] - 23s 5ms/step - loss: 0.2773 - accuracy: 0.8618\n",
      "Epoch 197/200\n",
      "5000/5000 [==============================] - 19s 4ms/step - loss: 0.2773 - accuracy: 0.8619\n",
      "Epoch 198/200\n",
      "5000/5000 [==============================] - 21s 4ms/step - loss: 0.2769 - accuracy: 0.8621\n",
      "Epoch 199/200\n",
      "5000/5000 [==============================] - 21s 4ms/step - loss: 0.2773 - accuracy: 0.8617\n",
      "Epoch 200/200\n",
      "5000/5000 [==============================] - 19s 4ms/step - loss: 0.2772 - accuracy: 0.8621\n"
     ]
    }
   ],
   "source": [
    "# Entrenamiento del modelo de deep learning\n",
    "history = model.fit(xtrain, ytrain, epochs=200)"
   ]
  },
  {
   "cell_type": "code",
   "execution_count": 64,
   "metadata": {},
   "outputs": [
    {
     "name": "stdout",
     "output_type": "stream",
     "text": [
      "1250/1250 [==============================] - 3s 2ms/step - loss: 0.5156 - accuracy: 0.7969\n",
      "Test loss: 0.5156024098396301\n",
      "Test accuracy: 0.7968999743461609\n"
     ]
    }
   ],
   "source": [
    "# Se evalua el modelo\n",
    "scores = model.evaluate(xtest,ytest, verbose=1)\n",
    "print('Test loss:', scores[0])\n",
    "print('Test accuracy:', scores[1])"
   ]
  },
  {
   "cell_type": "code",
   "execution_count": 65,
   "metadata": {},
   "outputs": [],
   "source": [
    "# Se predice con los datos de testeo\n",
    "#ypred = model.predict(xtest)\n",
    "\n",
    "ypred = model.predict(xtest).round()"
   ]
  },
  {
   "cell_type": "code",
   "execution_count": 66,
   "metadata": {},
   "outputs": [
    {
     "data": {
      "image/png": "[encoded data removed]",
      "text/plain": [
       "<Figure size 360x360 with 2 Axes>"
      ]
     },
     "metadata": {},
     "output_type": "display_data"
    }
   ],
   "source": [
    "# Evaluacion de matrix de confusion\n",
    "confusion_bin(ytest,ypred)"
   ]
  },
  {
   "cell_type": "code",
   "execution_count": 67,
   "metadata": {},
   "outputs": [
    {
     "name": "stdout",
     "output_type": "stream",
     "text": [
      "              precision    recall  f1-score   support\n",
      "\n",
      "           0       0.82      0.84      0.83     24000\n",
      "           1       0.76      0.72      0.74     16000\n",
      "\n",
      "    accuracy                           0.80     40000\n",
      "   macro avg       0.79      0.78      0.79     40000\n",
      "weighted avg       0.80      0.80      0.80     40000\n",
      "\n"
     ]
    }
   ],
   "source": [
    "# Calculo de exactitud, precision y sensibilidad\n",
    "target_names = ['0', '1']\n",
    "print(classification_report(ytest, ypred, target_names=target_names))"
   ]
  },
  {
   "cell_type": "markdown",
   "metadata": {},
   "source": [
    "### Resultados\n",
    "\n",
    "Luego de realizar las pruebas con deep learning se obtienen los siguientes resultados:\n",
    "\n",
    "- El rendimiento del modelo mejora notablemente al binarizar el problema. \n",
    "- Aquellas opiniones intermedias que el modelo de maquinas de vectores de soporte no alcanzaba a detectar, migraron a las etiquetas binarizadas y al hacer el entrenamiento y prediccion, gran parte de esas opiniones que estaban en el aire aportan para mejorar el rendimiento del modelo. \n",
    "- En terminos de rendimiento se obtiene precision y recall por encima del 70% \n",
    "- En terminos de un accuracy del 80% para muestras de testeo.\n",
    "\n",
    "Teniendo en cuenta estos resultados, se logra alcanzar el objetivo propuesto para el proyecto integrador-final."
   ]
  },
  {
   "cell_type": "code",
   "execution_count": null,
   "metadata": {},
   "outputs": [],
   "source": []
  }
 ],
 "metadata": {
  "colab": {
   "collapsed_sections": [],
   "name": "DS_Proyecto_03_NLP.ipynb",
   "provenance": []
  },
  "kernelspec": {
   "display_name": "Python 3",
   "language": "python",
   "name": "python3"
  },
  "language_info": {
   "codemirror_mode": {
    "name": "ipython",
    "version": 3
   },
   "file_extension": ".py",
   "mimetype": "text/x-python",
   "name": "python",
   "nbconvert_exporter": "python",
   "pygments_lexer": "ipython3",
   "version": "3.8.5"
  }
 },
 "nbformat": 4,
 "nbformat_minor": 1
}
